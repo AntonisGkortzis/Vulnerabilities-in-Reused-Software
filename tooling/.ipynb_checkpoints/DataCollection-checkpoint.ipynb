{
 "cells": [
  {
   "cell_type": "markdown",
   "metadata": {},
   "source": [
    "# ICSR '19 - Gkortzis et al. - Data Collection\n",
    "\n",
    "This notebook describes and performs the following steps necessary to collect all data used in the study:\n",
    "\n",
    "1. [Download projects from GitHub](#download)\n",
    "2. [Compile and install Maven projects](#install)\n",
    "3. [Retrieve projects' dependencies](#dependencies)\n",
    "4. [Run Spotbugs](#spotbugs)\n",
    "5. [Extract metrics and create analysis dataset](#metrics)"
   ]
  },
  {
   "cell_type": "markdown",
   "metadata": {},
   "source": [
    "<a id=\"download\"></a>\n",
    "## Download Projects from GitHub\n",
    "\n",
    "With a list of Github Maven repositories, the first step is to clone these reposirotories locally. This is the task that the github_downloader script performs. \n",
    "\n",
    "The execute_downloader requires three parameters:\n",
    "1. `credentials` : `String`. The github credentials in a specific format (`github_username:github_token`)\n",
    "2. `repository_list` : `Filepath`. The list of repositories to clone locally\n",
    "3. `download_directory` : `Directory`. The fullpath of the directory where the repositories will be cloned\n",
    "Additionally, there is an optional parameter: \n",
    "4. `Boolean`. That can be used to update (perform a git pull) on an already existing repository."
   ]
  },
  {
   "cell_type": "code",
   "execution_count": 4,
   "metadata": {},
   "outputs": [
    {
     "ename": "ModuleNotFoundError",
     "evalue": "No module named 'github_downloader'",
     "output_type": "error",
     "traceback": [
      "\u001b[0;31m---------------------------------------------------------------------------\u001b[0m",
      "\u001b[0;31mModuleNotFoundError\u001b[0m                       Traceback (most recent call last)",
      "\u001b[0;32m<ipython-input-4-0ccdea98d14a>\u001b[0m in \u001b[0;36m<module>\u001b[0;34m()\u001b[0m\n\u001b[0;32m----> 1\u001b[0;31m \u001b[0;32mimport\u001b[0m \u001b[0mgithub_downloader\u001b[0m\u001b[0;34m\u001b[0m\u001b[0m\n\u001b[0m\u001b[1;32m      2\u001b[0m \u001b[0;34m\u001b[0m\u001b[0m\n\u001b[1;32m      3\u001b[0m \u001b[0mcredentials\u001b[0m \u001b[0;34m=\u001b[0m \u001b[0;34m\"github_username:github_token\"\u001b[0m \u001b[0;31m# replace this value with your personal credentials\u001b[0m\u001b[0;34m\u001b[0m\u001b[0m\n\u001b[1;32m      4\u001b[0m \u001b[0mrepository_list\u001b[0m \u001b[0;34m=\u001b[0m \u001b[0;34m\"/home/agkortzis/git_repos/ICSR19/analysis/starred_github_maven_repositories_top300.txt\"\u001b[0m\u001b[0;34m\u001b[0m\u001b[0m\n\u001b[1;32m      5\u001b[0m \u001b[0mdownload_directory\u001b[0m \u001b[0;34m=\u001b[0m \u001b[0;34m\"/media/agkortzis/Data/test_repos\"\u001b[0m \u001b[0;31m# replace this value\u001b[0m\u001b[0;34m\u001b[0m\u001b[0m\n",
      "\u001b[0;31mModuleNotFoundError\u001b[0m: No module named 'github_downloader'"
     ]
    }
   ],
   "source": [
    "import github_downloader\n",
    "\n",
    "credentials = \"github_username:github_token\" # replace this value with your personal credentials\n",
    "repository_list = \"/home/agkortzis/git_repos/ICSR19/analysis/starred_github_maven_repositories_top300.txt\"\n",
    "download_directory = \"/media/agkortzis/Data/test_repos\" # replace this value\n",
    "\n",
    "github_downloader.execute_downloader(credentials, repository_list, download_directory)\n",
    "# github_downloader.execute_downloader(credentials, repoInputFile, repoStoreRoot, update_existing=True)\n"
   ]
  },
  {
   "cell_type": "markdown",
   "metadata": {},
   "source": [
    "<a id=\"install\"></a>\n",
    "## Compile and install Maven projects\n",
    "\n",
    "The next step after downloading the projects is to perform a maven install. This process will collect the projects dependencies and generate the `.jar` file. Both, the `.jar` file and the dependencies will be stored in the `.m2` directory under each project's direcoty. \n",
    "This `.m2` root directory is, by default, located under the users folder (`/home/user/.m2`).\n",
    "\n",
    "The `execute_mvn_install` requires one argument:\n",
    "1. `root_directory` : `Directory`. The full path of the directory in which all repositories (downloaded by the previous step) are located.\n",
    "\n",
    "Users can also define the following two optional parametes:\n",
    "2. `Boolean`. Perform a mvn clean on each repository before compiling it again, and\n",
    "3. `Datetime`. Checkout each repository to a specific date. Date shoud be formatted as `YYYY-MM-DD` (example `2018-12-25`) "
   ]
  },
  {
   "cell_type": "code",
   "execution_count": null,
   "metadata": {},
   "outputs": [],
   "source": [
    "import maven_installer\n",
    "\n",
    "root_directory = f'/media/agkortzis/Data/maven_projects_old_versions/' # replace this value\n",
    "maven_installer.execute_mvn_install(root_directory)\n",
    "# maven_installer.execute_mvn_install(root_directory,True,'2018-01-01')"
   ]
  },
  {
   "cell_type": "markdown",
   "metadata": {},
   "source": [
    "<a id=\"dependencies\"></a>\n",
    "## Retrieve project dependencies\n",
    "\n",
    "Having a local copy of each maven reporitory we proceed with retrieving their dependency tree. Each tree will be stored in a separate file (with `.trees` suffix) for further analysis as we describe on the next [step](#spotbugs). If a project consist of more than one modules, a seperate tree of each module will be stored in the `.trees` file.\n",
    "\n",
    "This step requires two parameters:\n",
    "1. `root_directory` : `Directory`. The full path of the directory that stores the repositories \n",
    "2. `output_directory` : `Directory`. The full path of the directory that will store the `.trees` files. "
   ]
  },
  {
   "cell_type": "code",
   "execution_count": 3,
   "metadata": {},
   "outputs": [
    {
     "name": "stdout",
     "output_type": "stream",
     "text": [
      "Detected 300 repositories in root directory /media/agkortzis/Data/maven_projects_old_versions/\n",
      "1/300. Scanning repository :: /media/agkortzis/Data/maven_projects_old_versions/4pr0n/ripme\n",
      "\tWritting file :: /home/agkortzis/git_repos/ICSR19/analysis/data/test/pr0n.ripme.trees\n",
      "2/300. Scanning repository :: /media/agkortzis/Data/maven_projects_old_versions/abel533/Mybatis-Spring\n",
      "3/300. Scanning repository :: /media/agkortzis/Data/maven_projects_old_versions/adamfisk/LittleProxy\n",
      "\tWritting file :: /home/agkortzis/git_repos/ICSR19/analysis/data/test/damfisk.LittleProxy.trees\n",
      "4/300. Scanning repository :: /media/agkortzis/Data/maven_projects_old_versions/addthis/hydra\n",
      "\tWritting file :: /home/agkortzis/git_repos/ICSR19/analysis/data/test/ddthis.hydra.trees\n",
      "5/300. Scanning repository :: /media/agkortzis/Data/maven_projects_old_versions/addthis/stream-lib\n",
      "\tWritting file :: /home/agkortzis/git_repos/ICSR19/analysis/data/test/ddthis.stream-lib.trees\n",
      "6/300. Scanning repository :: /media/agkortzis/Data/maven_projects_old_versions/adyliu/jafka\n",
      "\tWritting file :: /home/agkortzis/git_repos/ICSR19/analysis/data/test/dyliu.jafka.trees\n",
      "7/300. Scanning repository :: /media/agkortzis/Data/maven_projects_old_versions/aerogear/aerogear-unifiedpush-server\n",
      "\tWritting file :: /home/agkortzis/git_repos/ICSR19/analysis/data/test/erogear.aerogear-unifiedpush-server.trees\n",
      "8/300. Scanning repository :: /media/agkortzis/Data/maven_projects_old_versions/ahorn/android-rss\n",
      "\tWritting file :: /home/agkortzis/git_repos/ICSR19/analysis/data/test/horn.android-rss.trees\n",
      "9/300. Scanning repository :: /media/agkortzis/Data/maven_projects_old_versions/akquinet/android-archetypes\n",
      "\tWritting file :: /home/agkortzis/git_repos/ICSR19/analysis/data/test/kquinet.android-archetypes.trees\n",
      "10/300. Scanning repository :: /media/agkortzis/Data/maven_projects_old_versions/alexxiyang/shiro-redis\n",
      "\tWritting file :: /home/agkortzis/git_repos/ICSR19/analysis/data/test/lexxiyang.shiro-redis.trees\n",
      "11/300. Scanning repository :: /media/agkortzis/Data/maven_projects_old_versions/alibaba/asyncload\n",
      "\tWritting file :: /home/agkortzis/git_repos/ICSR19/analysis/data/test/libaba.asyncload.trees\n",
      "12/300. Scanning repository :: /media/agkortzis/Data/maven_projects_old_versions/alibaba/cobarclient\n",
      "\tWritting file :: /home/agkortzis/git_repos/ICSR19/analysis/data/test/libaba.cobarclient.trees\n",
      "13/300. Scanning repository :: /media/agkortzis/Data/maven_projects_old_versions/alibaba/java-dns-cache-manipulator\n",
      "14/300. Scanning repository :: /media/agkortzis/Data/maven_projects_old_versions/antlr/stringtemplate4\n",
      "\tWritting file :: /home/agkortzis/git_repos/ICSR19/analysis/data/test/ntlr.stringtemplate4.trees\n",
      "15/300. Scanning repository :: /media/agkortzis/Data/maven_projects_old_versions/apache/commons-collections\n",
      "\tWritting file :: /home/agkortzis/git_repos/ICSR19/analysis/data/test/pache.commons-collections.trees\n",
      "16/300. Scanning repository :: /media/agkortzis/Data/maven_projects_old_versions/apache/commons-io\n",
      "\tWritting file :: /home/agkortzis/git_repos/ICSR19/analysis/data/test/pache.commons-io.trees\n",
      "17/300. Scanning repository :: /media/agkortzis/Data/maven_projects_old_versions/apache/commons-lang\n",
      "\tWritting file :: /home/agkortzis/git_repos/ICSR19/analysis/data/test/pache.commons-lang.trees\n",
      "18/300. Scanning repository :: /media/agkortzis/Data/maven_projects_old_versions/apache/curator\n",
      "\tWritting file :: /home/agkortzis/git_repos/ICSR19/analysis/data/test/pache.curator.trees\n",
      "19/300. Scanning repository :: /media/agkortzis/Data/maven_projects_old_versions/apache/log4j\n",
      "\tWritting file :: /home/agkortzis/git_repos/ICSR19/analysis/data/test/pache.log4j.trees\n",
      "20/300. Scanning repository :: /media/agkortzis/Data/maven_projects_old_versions/apache/mina\n",
      "\tWritting file :: /home/agkortzis/git_repos/ICSR19/analysis/data/test/pache.mina.trees\n",
      "21/300. Scanning repository :: /media/agkortzis/Data/maven_projects_old_versions/apache/opennlp\n",
      "\tWritting file :: /home/agkortzis/git_repos/ICSR19/analysis/data/test/pache.opennlp.trees\n",
      "22/300. Scanning repository :: /media/agkortzis/Data/maven_projects_old_versions/apache/struts\n",
      "\tWritting file :: /home/agkortzis/git_repos/ICSR19/analysis/data/test/pache.struts.trees\n",
      "23/300. Scanning repository :: /media/agkortzis/Data/maven_projects_old_versions/apache/struts-examples\n",
      "\tWritting file :: /home/agkortzis/git_repos/ICSR19/analysis/data/test/pache.struts-examples.trees\n",
      "24/300. Scanning repository :: /media/agkortzis/Data/maven_projects_old_versions/appfuse/appfuse\n"
     ]
    },
    {
     "ename": "KeyboardInterrupt",
     "evalue": "",
     "output_type": "error",
     "traceback": [
      "\u001b[0;31m---------------------------------------------------------------------------\u001b[0m",
      "\u001b[0;31mKeyboardInterrupt\u001b[0m                         Traceback (most recent call last)",
      "\u001b[0;32m<ipython-input-3-2bfd092f1495>\u001b[0m in \u001b[0;36m<module>\u001b[0;34m()\u001b[0m\n\u001b[1;32m      4\u001b[0m \u001b[0mroot_directory\u001b[0m \u001b[0;34m=\u001b[0m \u001b[0;34mf\"/media/agkortzis/Data/maven_projects_old_versions/\"\u001b[0m \u001b[0;31m# replace this value\u001b[0m\u001b[0;34m\u001b[0m\u001b[0m\n\u001b[1;32m      5\u001b[0m \u001b[0;34m\u001b[0m\u001b[0m\n\u001b[0;32m----> 6\u001b[0;31m \u001b[0mdependency_extractor\u001b[0m\u001b[0;34m.\u001b[0m\u001b[0mexecute\u001b[0m\u001b[0;34m(\u001b[0m\u001b[0mroot_directory\u001b[0m\u001b[0;34m,\u001b[0m \u001b[0moutput_directory\u001b[0m\u001b[0;34m)\u001b[0m\u001b[0;34m\u001b[0m\u001b[0m\n\u001b[0m",
      "\u001b[0;32m~/git_repos/ICSR19/analysis/tooling/dependency_extractor.py\u001b[0m in \u001b[0;36mexecute\u001b[0;34m(root_directory, output_directory)\u001b[0m\n\u001b[1;32m     65\u001b[0m         \u001b[0mprint\u001b[0m\u001b[0;34m(\u001b[0m\u001b[0;34m\"{}/{}. Scanning repository :: {}\"\u001b[0m\u001b[0;34m.\u001b[0m\u001b[0mformat\u001b[0m\u001b[0;34m(\u001b[0m\u001b[0;34m(\u001b[0m\u001b[0mindex\u001b[0m\u001b[0;34m+\u001b[0m\u001b[0;36m1\u001b[0m\u001b[0;34m)\u001b[0m\u001b[0;34m,\u001b[0m \u001b[0mlen\u001b[0m\u001b[0;34m(\u001b[0m\u001b[0mrepo_list\u001b[0m\u001b[0;34m)\u001b[0m\u001b[0;34m,\u001b[0m\u001b[0mrepository\u001b[0m\u001b[0;34m)\u001b[0m\u001b[0;34m)\u001b[0m\u001b[0;34m\u001b[0m\u001b[0m\n\u001b[1;32m     66\u001b[0m         \u001b[0msys\u001b[0m\u001b[0;34m.\u001b[0m\u001b[0mstdout\u001b[0m\u001b[0;34m.\u001b[0m\u001b[0mflush\u001b[0m\u001b[0;34m(\u001b[0m\u001b[0;34m)\u001b[0m\u001b[0;34m\u001b[0m\u001b[0m\n\u001b[0;32m---> 67\u001b[0;31m         \u001b[0mresult\u001b[0m \u001b[0;34m=\u001b[0m \u001b[0mexecute_maven_dependency_tree\u001b[0m\u001b[0;34m(\u001b[0m\u001b[0mrepository\u001b[0m\u001b[0;34m)\u001b[0m\u001b[0;34m\u001b[0m\u001b[0m\n\u001b[0m\u001b[1;32m     68\u001b[0m         \u001b[0;31m# Cases that mvn fails to execute\u001b[0m\u001b[0;34m\u001b[0m\u001b[0;34m\u001b[0m\u001b[0m\n\u001b[1;32m     69\u001b[0m         \u001b[0;31m# print(len(result))\u001b[0m\u001b[0;34m\u001b[0m\u001b[0;34m\u001b[0m\u001b[0m\n",
      "\u001b[0;32m~/git_repos/ICSR19/analysis/tooling/dependency_extractor.py\u001b[0m in \u001b[0;36mexecute_maven_dependency_tree\u001b[0;34m(repository_fullpath)\u001b[0m\n\u001b[1;32m     31\u001b[0m \u001b[0;34m\u001b[0m\u001b[0m\n\u001b[1;32m     32\u001b[0m     \u001b[0mos\u001b[0m\u001b[0;34m.\u001b[0m\u001b[0mchdir\u001b[0m\u001b[0;34m(\u001b[0m\u001b[0mrepository_fullpath\u001b[0m\u001b[0;34m)\u001b[0m\u001b[0;34m\u001b[0m\u001b[0m\n\u001b[0;32m---> 33\u001b[0;31m     \u001b[0moutput\u001b[0m\u001b[0;34m,\u001b[0m \u001b[0merror\u001b[0m \u001b[0;34m=\u001b[0m \u001b[0mUtility\u001b[0m\u001b[0;34m.\u001b[0m\u001b[0mexecute_process\u001b[0m\u001b[0;34m(\u001b[0m\u001b[0mmvn_dependency_tree\u001b[0m\u001b[0;34m)\u001b[0m\u001b[0;34m\u001b[0m\u001b[0m\n\u001b[0m\u001b[1;32m     34\u001b[0m     \u001b[0mresult\u001b[0m \u001b[0;34m=\u001b[0m \u001b[0mparse_mvn_install_output\u001b[0m\u001b[0;34m(\u001b[0m\u001b[0moutput\u001b[0m\u001b[0;34m)\u001b[0m\u001b[0;34m\u001b[0m\u001b[0m\n\u001b[1;32m     35\u001b[0m \u001b[0;34m\u001b[0m\u001b[0m\n",
      "\u001b[0;32m~/git_repos/ICSR19/analysis/tooling/utility.py\u001b[0m in \u001b[0;36mexecute_process\u001b[0;34m(command)\u001b[0m\n\u001b[1;32m     32\u001b[0m             )\n\u001b[1;32m     33\u001b[0m \u001b[0;34m\u001b[0m\u001b[0m\n\u001b[0;32m---> 34\u001b[0;31m             \u001b[0;34m(\u001b[0m\u001b[0mout\u001b[0m\u001b[0;34m,\u001b[0m \u001b[0merr\u001b[0m\u001b[0;34m)\u001b[0m \u001b[0;34m=\u001b[0m \u001b[0;34m[\u001b[0m\u001b[0mx\u001b[0m\u001b[0;34m.\u001b[0m\u001b[0mdecode\u001b[0m\u001b[0;34m(\u001b[0m\u001b[0;34m)\u001b[0m \u001b[0;32mfor\u001b[0m \u001b[0mx\u001b[0m \u001b[0;32min\u001b[0m \u001b[0mprocess\u001b[0m\u001b[0;34m.\u001b[0m\u001b[0mcommunicate\u001b[0m\u001b[0;34m(\u001b[0m\u001b[0;34m)\u001b[0m\u001b[0;34m]\u001b[0m\u001b[0;34m\u001b[0m\u001b[0m\n\u001b[0m\u001b[1;32m     35\u001b[0m \u001b[0;34m\u001b[0m\u001b[0m\n\u001b[1;32m     36\u001b[0m         \u001b[0;32mexcept\u001b[0m \u001b[0mException\u001b[0m \u001b[0;32mas\u001b[0m \u001b[0me\u001b[0m\u001b[0;34m:\u001b[0m\u001b[0;34m\u001b[0m\u001b[0m\n",
      "\u001b[0;32m~/anaconda3/lib/python3.6/subprocess.py\u001b[0m in \u001b[0;36mcommunicate\u001b[0;34m(self, input, timeout)\u001b[0m\n\u001b[1;32m    841\u001b[0m \u001b[0;34m\u001b[0m\u001b[0m\n\u001b[1;32m    842\u001b[0m             \u001b[0;32mtry\u001b[0m\u001b[0;34m:\u001b[0m\u001b[0;34m\u001b[0m\u001b[0m\n\u001b[0;32m--> 843\u001b[0;31m                 \u001b[0mstdout\u001b[0m\u001b[0;34m,\u001b[0m \u001b[0mstderr\u001b[0m \u001b[0;34m=\u001b[0m \u001b[0mself\u001b[0m\u001b[0;34m.\u001b[0m\u001b[0m_communicate\u001b[0m\u001b[0;34m(\u001b[0m\u001b[0minput\u001b[0m\u001b[0;34m,\u001b[0m \u001b[0mendtime\u001b[0m\u001b[0;34m,\u001b[0m \u001b[0mtimeout\u001b[0m\u001b[0;34m)\u001b[0m\u001b[0;34m\u001b[0m\u001b[0m\n\u001b[0m\u001b[1;32m    844\u001b[0m             \u001b[0;32mfinally\u001b[0m\u001b[0;34m:\u001b[0m\u001b[0;34m\u001b[0m\u001b[0m\n\u001b[1;32m    845\u001b[0m                 \u001b[0mself\u001b[0m\u001b[0;34m.\u001b[0m\u001b[0m_communication_started\u001b[0m \u001b[0;34m=\u001b[0m \u001b[0;32mTrue\u001b[0m\u001b[0;34m\u001b[0m\u001b[0m\n",
      "\u001b[0;32m~/anaconda3/lib/python3.6/subprocess.py\u001b[0m in \u001b[0;36m_communicate\u001b[0;34m(self, input, endtime, orig_timeout)\u001b[0m\n\u001b[1;32m   1512\u001b[0m                         \u001b[0;32mraise\u001b[0m \u001b[0mTimeoutExpired\u001b[0m\u001b[0;34m(\u001b[0m\u001b[0mself\u001b[0m\u001b[0;34m.\u001b[0m\u001b[0margs\u001b[0m\u001b[0;34m,\u001b[0m \u001b[0morig_timeout\u001b[0m\u001b[0;34m)\u001b[0m\u001b[0;34m\u001b[0m\u001b[0m\n\u001b[1;32m   1513\u001b[0m \u001b[0;34m\u001b[0m\u001b[0m\n\u001b[0;32m-> 1514\u001b[0;31m                     \u001b[0mready\u001b[0m \u001b[0;34m=\u001b[0m \u001b[0mselector\u001b[0m\u001b[0;34m.\u001b[0m\u001b[0mselect\u001b[0m\u001b[0;34m(\u001b[0m\u001b[0mtimeout\u001b[0m\u001b[0;34m)\u001b[0m\u001b[0;34m\u001b[0m\u001b[0m\n\u001b[0m\u001b[1;32m   1515\u001b[0m                     \u001b[0mself\u001b[0m\u001b[0;34m.\u001b[0m\u001b[0m_check_timeout\u001b[0m\u001b[0;34m(\u001b[0m\u001b[0mendtime\u001b[0m\u001b[0;34m,\u001b[0m \u001b[0morig_timeout\u001b[0m\u001b[0;34m)\u001b[0m\u001b[0;34m\u001b[0m\u001b[0m\n\u001b[1;32m   1516\u001b[0m \u001b[0;34m\u001b[0m\u001b[0m\n",
      "\u001b[0;32m~/anaconda3/lib/python3.6/selectors.py\u001b[0m in \u001b[0;36mselect\u001b[0;34m(self, timeout)\u001b[0m\n\u001b[1;32m    374\u001b[0m             \u001b[0mready\u001b[0m \u001b[0;34m=\u001b[0m \u001b[0;34m[\u001b[0m\u001b[0;34m]\u001b[0m\u001b[0;34m\u001b[0m\u001b[0m\n\u001b[1;32m    375\u001b[0m             \u001b[0;32mtry\u001b[0m\u001b[0;34m:\u001b[0m\u001b[0;34m\u001b[0m\u001b[0m\n\u001b[0;32m--> 376\u001b[0;31m                 \u001b[0mfd_event_list\u001b[0m \u001b[0;34m=\u001b[0m \u001b[0mself\u001b[0m\u001b[0;34m.\u001b[0m\u001b[0m_poll\u001b[0m\u001b[0;34m.\u001b[0m\u001b[0mpoll\u001b[0m\u001b[0;34m(\u001b[0m\u001b[0mtimeout\u001b[0m\u001b[0;34m)\u001b[0m\u001b[0;34m\u001b[0m\u001b[0m\n\u001b[0m\u001b[1;32m    377\u001b[0m             \u001b[0;32mexcept\u001b[0m \u001b[0mInterruptedError\u001b[0m\u001b[0;34m:\u001b[0m\u001b[0;34m\u001b[0m\u001b[0m\n\u001b[1;32m    378\u001b[0m                 \u001b[0;32mreturn\u001b[0m \u001b[0mready\u001b[0m\u001b[0;34m\u001b[0m\u001b[0m\n",
      "\u001b[0;31mKeyboardInterrupt\u001b[0m: "
     ]
    }
   ],
   "source": [
    "import dependency_extractor\n",
    "\n",
    "root_directory = f\"/media/agkortzis/Data/maven_projects_old_versions/\" # replace this value\n",
    "output_directory = \"/home/agkortzis/git_repos/ICSR19/analysis/data/test\" # replace this value\n",
    "\n",
    "dependency_extractor.execute(root_directory, output_directory)"
   ]
  },
  {
   "cell_type": "markdown",
   "metadata": {},
   "source": [
    "<a id=\"spotbugs\"></a>\n",
    "## Run SpotBugs\n",
    "\n",
    "With the installed projects, the next step is to run SpotBugs.\n",
    "For that, we use the `.trees` files, which contain the dependency tree for each module built for the project.\n",
    "\n",
    "Thus, for each project (i.e., each `.trees` files), the next sub-steps are:\n",
    "1. Parse the `.trees` file\n",
    "2. Ignore modules that are not Java source code (not `.jar` nor `.war`)\n",
    "3. For each remaining tree (i.e., for each `.jar`/`.war` module):\n",
    "  1. Select relevant dependencies (i.e., compile dependencies)\n",
    "  2. Verify if main package and dependencies are installed in the `.m2` local repository\n",
    "  3. Run SpotBugs for the set **[module] + [dependencies]**\n"
   ]
  },
  {
   "cell_type": "code",
   "execution_count": null,
   "metadata": {},
   "outputs": [
    {
     "name": "stderr",
     "output_type": "stream",
     "text": [
      "INFO:spotbugs:Already analyzed. Skipping /home/agkortzis/.m2/repository/org/littleshoot/littleproxy/1.1.3-SNAPSHOT/littleproxy-1.1.3-SNAPSHOT.jar.\n",
      "ERROR:spotbugs:Main package not found: /home/agkortzis/.m2/repository/net/librec/librec-core/3.0.0/librec-core-3.0.0.jar.\n",
      "ERROR:spotbugs:Skipping /home/agkortzis/.m2/repository/net/librec/librec-core/3.0.0/librec-core-3.0.0.jar.\n",
      "INFO:spotbugs:Already analyzed. Skipping /home/agkortzis/.m2/repository/com/ebay/pulsar/collector/1.0.2/collector-1.0.2.jar.\n",
      "INFO:spotbugs:Already analyzed. Skipping /home/agkortzis/.m2/repository/com/ebay/pulsar/replay/replay/1.0.2/replay-1.0.2.jar.\n",
      "INFO:spotbugs:Already analyzed. Skipping /home/agkortzis/.m2/repository/com/ebay/pulsar/sessionizer/1.0.2/sessionizer-1.0.2.jar.\n",
      "INFO:spotbugs:Already analyzed. Skipping /home/agkortzis/.m2/repository/com/ebay/pulsar/distributor/1.0.2/distributor-1.0.2.jar.\n",
      "INFO:spotbugs:Analyzing /home/agkortzis/.m2/repository/com/ebay/pulsar/metriccalculator/1.0.2/metriccalculator-1.0.2.jar\n"
     ]
    },
    {
     "name": "stdout",
     "output_type": "stream",
     "text": [
      "Started at :: 2019-02-01 19:56:53.707617\n"
     ]
    }
   ],
   "source": [
    "import os\n",
    "import logging\n",
    "\n",
    "import maven\n",
    "import spotbugs\n",
    "\n",
    "logging.basicConfig(level=logging.INFO)\n",
    "\n",
    "import datetime\n",
    "\n",
    "currentDT = datetime.datetime.now()\n",
    "print (\"Started at :: {}\".format(str(currentDT)))\n",
    "\n",
    "\n",
    "def run_spotbugs(file_project_trees):\n",
    "\n",
    "    with open(file_project_trees) as f:\n",
    "        trees = maven.split_trees([l.rstrip() for l in f.readlines()])\n",
    "\n",
    "    for t in trees:\n",
    "        t = maven.ArtifactTree.parse_tree_str('\\n'.join(t))\n",
    "        if t.artifact.type in ['jar', 'war']:\n",
    "            t.filter_deps(lambda d : d.artifact.dep_type == 'compile')\n",
    "            paths = [d.artifact.get_m2_path() for d in t]\n",
    "            spotbugs.analyze_project(paths[0], list(set(paths[1:])))\n",
    "\n",
    "\n",
    "\n",
    "path_to_data = os.path.abspath('../data')\n",
    "\n",
    "projects_tress = [f for f in os.listdir(path_to_data) if f.endswith('.trees')]\n",
    "\n",
    "for f in projects_tress:\n",
    "    filepath = path_to_data + os.path.sep + f\n",
    "    run_spotbugs(filepath)\n",
    "    \n",
    "\n",
    "currentDT = datetime.datetime.now()\n",
    "print (\"Finished at :: {}\".format(str(currentDT)))"
   ]
  },
  {
   "cell_type": "markdown",
   "metadata": {},
   "source": [
    "<a id=\"metrics\"></a>\n",
    "## Extract metrics and create analysis dataset\n",
    "\n",
    "*[Describe steps]*"
   ]
  },
  {
   "cell_type": "code",
   "execution_count": null,
   "metadata": {},
   "outputs": [],
   "source": [
    "import os\n",
    "import xmltodict\n",
    "import zipfile\n",
    "\n",
    "xmlpath='/home/vagrant/.m2/repository/org/apache/empire-db/empire-db-example-jsf2/2.4.7/empire-db-example-jsf2-2.4.7.xml'\n",
    "artpath='/home/vagrant/.m2/repository/org/apache/empire-db/empire-db-example-jsf2/2.4.7/empire-db-example-jsf2-2.4.7.war'\n",
    "\n",
    "\n",
    "def get_class_list(pkg):\n",
    "    container = zipfile.ZipFile(pkg)\n",
    "    len_preffix =  len('WEB-INF/classes/') if pkg.endswith('.war') else 0\n",
    "    return [i[len_preffix:-6].replace(os.path.sep,'.') for i in container.namelist() if i.endswith('.class')]\n",
    "\n",
    "clst = get_class_list(artpath)\n",
    "\n",
    "print('# classes: ', len(clst))\n",
    "print('Sample classes', clst[:3])\n",
    "\n",
    "with open(xmlpath) as fd:\n",
    "    doc = xmltodict.parse(fd.read())\n",
    "    \n",
    "print('# vulnerabilities: ', len(doc['BugCollection']['BugInstance']))\n",
    "\n",
    "print(len([i for i in doc['BugCollection']['BugInstance'] if i['Class']['@classname'] in clst]))\n",
    "print(len([i for i in doc['BugCollection']['BugInstance'] if i['@priority'] == '1' and int(i['@rank']) <= 20 and i['Class']['@classname'] in clst]))\n",
    "print(len([i for i in doc['BugCollection']['BugInstance'] if i['@priority'] == '2' and int(i['@rank']) <= 20 and i['Class']['@classname'] in clst]))\n",
    "print(len([i for i in doc['BugCollection']['BugInstance'] if i['@priority'] == '3' and int(i['@rank']) <= 20 and i['Class']['@classname'] in clst]))\n",
    "\n",
    "for i in clst:\n",
    "    print(i)\n"
   ]
  }
 ],
 "metadata": {
  "kernelspec": {
   "display_name": "Python 3",
   "language": "python",
   "name": "python3"
  },
  "language_info": {
   "codemirror_mode": {
    "name": "ipython",
    "version": 3
   },
   "file_extension": ".py",
   "mimetype": "text/x-python",
   "name": "python",
   "nbconvert_exporter": "python",
   "pygments_lexer": "ipython3",
   "version": "3.7.1"
  }
 },
 "nbformat": 4,
 "nbformat_minor": 2
}
