{
 "cells": [
  {
   "cell_type": "markdown",
   "metadata": {},
   "source": [
    "<a id=\"index\"></a>\n",
    "# Data Vizualisation, Gkortzis et al. - JSS'19 Special Issue on Software and Systems Reuse in the Big Data Era \n",
    "This notebook performs the following analyses reported in the study:\n",
    "\n",
    "1. [Prepare dataset](#prepare)\n",
    "2. [RQ1](#rq1)\n",
    "    1. [Descriptive statistics](#rq1-descriptive)\n",
    "    2. [Descriptive statistics (sums & median)](#rq1-sums)\n",
    "    4. [Regression Analysis (Prepare dataset)](#rq1-regression)\n",
    "    5. [Dataset Visualization](#rq1-visual)\n",
    "    6. [Multivariate Regression Analysis](#rq1-regression-multivariate)\n",
    "    7. [rq1-boxplots](#rq1-boxplots)\n",
    "<!--    7. [Boxplots](#rq1-boxplots) -->\n",
    "<!--     8. [Grouping analysis(NEW)](#grouping) -->\n",
    "3. [RQ2](#rq2)\n",
    "    1. [Prepare Dataset](#rq2-pd)\n",
    "    2. [Scatterplots](#rq2-scatter)\n",
    "    3. [Boxplots](#rq2-boxplots2)\n",
    "    4. [Regression Analysis [vuln-density, reuse-ratio]](#rq2-regression)\n",
    "    5. [Regression Analysis [native-vuln-density, reuse-ratio]](#rq2-regression2)\n",
    "    6. [Multivariate Regression Analysis [vuln-density, native-sloc, reuse-sloc]](#rq2-regression3)\n",
    "    7. [Multivariate Regression Analysis [vuln-density, native-vuln-density, reuse-vuln-density]](#rq2-regression4)\n",
    "4. [RQ3](#rq3)\n",
    "    1. [Dataset Description](#rq3-dd)\n",
    "    2. [Regression Analysis [#cves-#dependencies]](#rq3-regression)\n",
    "    3. [RQ3 - Regression Analysis [#v - #dependencies]](#rq3-potential)\n",
    "    3. [Regression Analysis [#cves - #module_size]](#rq3-regression2)\n",
    "    4. [Regression Analysis [#cve-density - #dependencies]](#rq3-regression3)\n",
    "    3. [Count Vulnerable Projects](#rq3-count)\n",
    "5. [RQ4](#rq4)\n",
    "    1. [Prepare Dataset](#rq4-pd)\n",
    "    2. [Count Vulnerabilities](#rq4-count)\n",
    "    3. [Regression Analysis](#rq4-regression)\n",
    "6. [[Discussion] How are potential vulnerabilities related to disclosed ones?](#discussion)"
   ]
  },
  {
   "cell_type": "markdown",
   "metadata": {},
   "source": [
    "<a id=\"prepare\"></a>\n",
    "## Prepare dataset"
   ]
  },
  {
   "cell_type": "code",
   "execution_count": 1,
   "metadata": {},
   "outputs": [
    {
     "name": "stderr",
     "output_type": "stream",
     "text": [
      "INFO:root:Creating projects dependencies' list..\n",
      "INFO:root:Creating projects cves list..\n",
      "INFO:root:Enhancing dataframe with dependencies and cves..\n"
     ]
    },
    {
     "name": "stdout",
     "output_type": "stream",
     "text": [
      "Creating main dataframe. Size 2017\n",
      "Initial filtering reduced size to 1271\n"
     ]
    },
    {
     "name": "stderr",
     "output_type": "stream",
     "text": [
      "INFO:root:Filtering dataset\n"
     ]
    },
    {
     "name": "stdout",
     "output_type": "stream",
     "text": [
      "Selected data set after filtering :: 1244\n"
     ]
    }
   ],
   "source": [
    "import csv\n",
    "import logging\n",
    "import numpy as np\n",
    "import pandas as pd\n",
    "logging.basicConfig(level=logging.INFO)\n",
    "\n",
    "def map_deps_to_projects(dependencies_usages):\n",
    "    logging.info(\"Creating projects dependencies' list..\")\n",
    "    \n",
    "    projects_dependencies = {}\n",
    "    with open(dependencies_usages, 'r') as csv_file:\n",
    "        for line in csv_file:\n",
    "            fields = line.replace('\\n','').split(';')\n",
    "#             logging.info(fields)\n",
    "            dependency = fields[0]\n",
    "            for project in fields[2:]:\n",
    "                if project not in projects_dependencies:\n",
    "                    projects_dependencies[project] = [dependency]\n",
    "                else:\n",
    "                    projects_dependencies[project].append(dependency)\n",
    "                    \n",
    "    return projects_dependencies\n",
    "\n",
    "\n",
    "def count_vulnerabilities(projects_dependencies, owasp_vulnerabilities):\n",
    "    logging.info(\"Creating projects cves list..\")\n",
    "    \n",
    "    dependencies_vulnerabilities = {}\n",
    "    with open(owasp_vulnerabilities, 'r') as csv_file:\n",
    "        for line in csv_file:\n",
    "            fields = line.replace('\\n','').split(';')\n",
    "#             logging.info(fields)\n",
    "            dependency = fields[0]\n",
    "            number_of_cves = int(fields[2])\n",
    "            if number_of_cves > 0:\n",
    "                cves = fields[4].split(',')\n",
    "                dependencies_vulnerabilities[dependency] = set(cves)\n",
    "    \n",
    "    projects_vulnerabilities = {}\n",
    "    for project in projects_dependencies:\n",
    "        cves = set()\n",
    "        \n",
    "        for dependency in projects_dependencies[project]:\n",
    "            if dependency in dependencies_vulnerabilities:\n",
    "                dependency_cves = dependencies_vulnerabilities[dependency]\n",
    "                cves.update(dependency_cves)\n",
    "            else:\n",
    "#                 logging.warning(\"dependency {} not found\".format(dependency))\n",
    "                pass\n",
    "        \n",
    "        projects_vulnerabilities[project] = len(cves)\n",
    "#         logging.info(\"{}-->{}\".format(project,projects_vulnerabilities[project]))\n",
    "            \n",
    "    return projects_vulnerabilities\n",
    "\n",
    "\n",
    "def load_dataset(csv_file):\n",
    "    return pd.read_csv(csv_file)\n",
    "\n",
    "\n",
    "def prepare_dataset(df):\n",
    "    print(\"Creating main dataframe. Size {}\".format(len(df)))\n",
    "     \n",
    "    # Calculate derived variables\n",
    "    df['#uv_p1'] = df['#uv_p1_r1'] + df['#uv_p1_r2'] + df['#uv_p1_r3'] + df['#uv_p1_r4']\n",
    "    df['#dv_p1'] = df['#dv_p1_r1'] + df['#dv_p1_r2'] + df['#dv_p1_r3'] + df['#dv_p1_r4']\n",
    "    df['#uv_p2'] = df['#uv_p2_r1'] + df['#uv_p2_r2'] + df['#uv_p2_r3'] + df['#uv_p2_r4']\n",
    "    df['#dv_p2'] = df['#dv_p2_r1'] + df['#dv_p2_r2'] + df['#dv_p2_r3'] + df['#dv_p2_r4']\n",
    "    df['#uv'] = df['#uv_p1'] + df['#uv_p2']\n",
    "    df['#dv'] = df['#dv_p1'] + df['#dv_p2']\n",
    "    df['#uv_sloc'] = df['#uv'] / (df['#d_sloc']+df['#u_sloc'])\n",
    "    df['#dv_sloc'] = df['#dv'] / (df['#d_sloc']+df['#u_sloc'])\n",
    "    df['classes'] = df['#u_classes'] + df['#d_classes']\n",
    "    df['sloc'] = df['#u_sloc'] + df['#d_sloc']\n",
    "    df['v'] = df['#uv'] + df['#dv']\n",
    "\n",
    "    # Remove project with no external classes or very small native code base\n",
    "    df = df[df['#d_classes'] > 0]\n",
    "    df = df[df['#u_sloc'] >= 1000]\n",
    "    \n",
    "    print(\"Initial filtering reduced size to {}\".format(len(df)))\n",
    "    return df\n",
    "\n",
    "\n",
    "def enhance_dataset(df, projects_dependencies, projects_vulnerabilities):\n",
    "    logging.info(\"Enhancing dataframe with dependencies and cves..\")\n",
    "    df[\"#dependencies\"] = np.nan\n",
    "    df[\"#cves\"] = np.nan\n",
    "    \n",
    "    for index, row in df.iterrows():\n",
    "        project = row['project']\n",
    "        number_of_dependencies = len(projects_dependencies[project])\n",
    "        number_of_cves = projects_vulnerabilities[project]\n",
    "        df.at[index,'#dependencies'] = int(number_of_dependencies)\n",
    "        df.at[index,'#cves'] = int(number_of_cves)\n",
    "      \n",
    "    return df\n",
    "\n",
    "\n",
    "def filter_dataset(df, projects_as_dependencies):\n",
    "    logging.info(\"Filtering dataset\")\n",
    "    project_list = []\n",
    "    with open(projects_as_dependencies, 'r') as csv_file:\n",
    "        for line in csv_file:\n",
    "            project = line.rstrip('\\n')\n",
    "            project_list.append(project)\n",
    "            df = df[df.project != project]\n",
    "\n",
    "    print(\"Selected data set after filtering :: {}\".format(len(df)))\n",
    "    \n",
    "    return df\n",
    "\n",
    "        \n",
    "owasp_vulnerabilities = '../owasp_vulnerabilities_enhanced.csv'\n",
    "dependencies_usages = '../depependencies_usages.csv'\n",
    "projects_dataset = '../projects-dataset_new.csv'\n",
    "study_vars = ['classes','#u_classes', '#d_classes', 'sloc', '#u_sloc', '#d_sloc', 'v', '#uv', '#dv', '#uv_classes', '#dv_classes', '#uv_sloc', '#dv_sloc', '#dependencies', '#cves']\n",
    "\n",
    "projects_dependencies = map_deps_to_projects(dependencies_usages)\n",
    "projects_vulnerabilities = count_vulnerabilities(projects_dependencies, owasp_vulnerabilities)\n",
    "projects_as_dependencies = '../projects_as_dependencies.csv'\n",
    "df = load_dataset(projects_dataset)\n",
    "df = prepare_dataset(df)\n",
    "df = enhance_dataset(df, projects_dependencies, projects_vulnerabilities)\n",
    "df = filter_dataset(df, projects_as_dependencies)"
   ]
  },
  {
   "cell_type": "markdown",
   "metadata": {
    "slideshow": {
     "slide_type": "-"
    }
   },
   "source": [
    "<a id=\"rq1\"></a>\n",
    "## RQ1\n",
    "__RQ1: \"What size and reuse factors are related with potential security vulnerabilities?\"__. \n",
    "\n",
    "[Back to table of contents](#index)\n",
    "\n",
    "<a id=\"rq1-descriptive\"></a>\n",
    "### RQ1 - Descriptive statistics\n",
    "// TODO description\n",
    "\n",
    "[Back to table of contents](#index)"
   ]
  },
  {
   "cell_type": "code",
   "execution_count": 2,
   "metadata": {},
   "outputs": [
    {
     "data": {
      "text/html": [
       "<div>\n",
       "<style scoped>\n",
       "    .dataframe tbody tr th:only-of-type {\n",
       "        vertical-align: middle;\n",
       "    }\n",
       "\n",
       "    .dataframe tbody tr th {\n",
       "        vertical-align: top;\n",
       "    }\n",
       "\n",
       "    .dataframe thead th {\n",
       "        text-align: right;\n",
       "    }\n",
       "</style>\n",
       "<table border=\"1\" class=\"dataframe\">\n",
       "  <thead>\n",
       "    <tr style=\"text-align: right;\">\n",
       "      <th></th>\n",
       "      <th>classes</th>\n",
       "      <th>#u_classes</th>\n",
       "      <th>#d_classes</th>\n",
       "      <th>sloc</th>\n",
       "      <th>#u_sloc</th>\n",
       "      <th>#d_sloc</th>\n",
       "      <th>v</th>\n",
       "      <th>#uv</th>\n",
       "      <th>#dv</th>\n",
       "      <th>#uv_classes</th>\n",
       "      <th>#dv_classes</th>\n",
       "      <th>#uv_sloc</th>\n",
       "      <th>#dv_sloc</th>\n",
       "      <th>#dependencies</th>\n",
       "      <th>#cves</th>\n",
       "    </tr>\n",
       "  </thead>\n",
       "  <tbody>\n",
       "    <tr>\n",
       "      <th>count</th>\n",
       "      <td>1244.000000</td>\n",
       "      <td>1244.000000</td>\n",
       "      <td>1244.000000</td>\n",
       "      <td>1244.000000</td>\n",
       "      <td>1244.000000</td>\n",
       "      <td>1244.000000</td>\n",
       "      <td>1244.000000</td>\n",
       "      <td>1244.000000</td>\n",
       "      <td>1244.000000</td>\n",
       "      <td>1244.000000</td>\n",
       "      <td>1244.000000</td>\n",
       "      <td>1244.000000</td>\n",
       "      <td>1244.000000</td>\n",
       "      <td>1244.000000</td>\n",
       "      <td>1244.000000</td>\n",
       "    </tr>\n",
       "    <tr>\n",
       "      <th>mean</th>\n",
       "      <td>8064.127814</td>\n",
       "      <td>2103.598875</td>\n",
       "      <td>5960.528939</td>\n",
       "      <td>253977.784566</td>\n",
       "      <td>55748.309486</td>\n",
       "      <td>198229.475080</td>\n",
       "      <td>665.848071</td>\n",
       "      <td>171.119775</td>\n",
       "      <td>494.728296</td>\n",
       "      <td>120.772508</td>\n",
       "      <td>362.841640</td>\n",
       "      <td>0.000751</td>\n",
       "      <td>0.002080</td>\n",
       "      <td>14.751608</td>\n",
       "      <td>7.508842</td>\n",
       "    </tr>\n",
       "    <tr>\n",
       "      <th>std</th>\n",
       "      <td>14237.876382</td>\n",
       "      <td>9001.870281</td>\n",
       "      <td>9398.153460</td>\n",
       "      <td>372688.212960</td>\n",
       "      <td>191022.569777</td>\n",
       "      <td>286261.833375</td>\n",
       "      <td>972.091138</td>\n",
       "      <td>580.290891</td>\n",
       "      <td>747.934832</td>\n",
       "      <td>413.989882</td>\n",
       "      <td>541.628440</td>\n",
       "      <td>0.001830</td>\n",
       "      <td>0.001583</td>\n",
       "      <td>18.144726</td>\n",
       "      <td>12.024743</td>\n",
       "    </tr>\n",
       "    <tr>\n",
       "      <th>min</th>\n",
       "      <td>9.000000</td>\n",
       "      <td>3.000000</td>\n",
       "      <td>2.000000</td>\n",
       "      <td>1231.000000</td>\n",
       "      <td>1000.000000</td>\n",
       "      <td>3.000000</td>\n",
       "      <td>0.000000</td>\n",
       "      <td>0.000000</td>\n",
       "      <td>0.000000</td>\n",
       "      <td>0.000000</td>\n",
       "      <td>0.000000</td>\n",
       "      <td>0.000000</td>\n",
       "      <td>0.000000</td>\n",
       "      <td>1.000000</td>\n",
       "      <td>0.000000</td>\n",
       "    </tr>\n",
       "    <tr>\n",
       "      <th>25%</th>\n",
       "      <td>1252.750000</td>\n",
       "      <td>78.000000</td>\n",
       "      <td>869.500000</td>\n",
       "      <td>45783.000000</td>\n",
       "      <td>2219.500000</td>\n",
       "      <td>33743.250000</td>\n",
       "      <td>95.750000</td>\n",
       "      <td>8.000000</td>\n",
       "      <td>36.750000</td>\n",
       "      <td>7.000000</td>\n",
       "      <td>31.000000</td>\n",
       "      <td>0.000069</td>\n",
       "      <td>0.000894</td>\n",
       "      <td>4.000000</td>\n",
       "      <td>0.000000</td>\n",
       "    </tr>\n",
       "    <tr>\n",
       "      <th>50%</th>\n",
       "      <td>3835.000000</td>\n",
       "      <td>190.500000</td>\n",
       "      <td>2862.000000</td>\n",
       "      <td>124871.500000</td>\n",
       "      <td>5210.000000</td>\n",
       "      <td>96265.000000</td>\n",
       "      <td>301.500000</td>\n",
       "      <td>23.000000</td>\n",
       "      <td>177.000000</td>\n",
       "      <td>19.000000</td>\n",
       "      <td>145.000000</td>\n",
       "      <td>0.000227</td>\n",
       "      <td>0.001981</td>\n",
       "      <td>8.000000</td>\n",
       "      <td>2.000000</td>\n",
       "    </tr>\n",
       "    <tr>\n",
       "      <th>75%</th>\n",
       "      <td>8903.250000</td>\n",
       "      <td>630.000000</td>\n",
       "      <td>7171.500000</td>\n",
       "      <td>310768.000000</td>\n",
       "      <td>18022.500000</td>\n",
       "      <td>255432.750000</td>\n",
       "      <td>850.000000</td>\n",
       "      <td>79.250000</td>\n",
       "      <td>656.750000</td>\n",
       "      <td>59.250000</td>\n",
       "      <td>463.500000</td>\n",
       "      <td>0.000842</td>\n",
       "      <td>0.002954</td>\n",
       "      <td>19.000000</td>\n",
       "      <td>11.000000</td>\n",
       "    </tr>\n",
       "    <tr>\n",
       "      <th>max</th>\n",
       "      <td>191859.000000</td>\n",
       "      <td>184717.000000</td>\n",
       "      <td>120000.000000</td>\n",
       "      <td>3619934.000000</td>\n",
       "      <td>2650782.000000</td>\n",
       "      <td>3330189.000000</td>\n",
       "      <td>10064.000000</td>\n",
       "      <td>8790.000000</td>\n",
       "      <td>7955.000000</td>\n",
       "      <td>6670.000000</td>\n",
       "      <td>5082.000000</td>\n",
       "      <td>0.048955</td>\n",
       "      <td>0.012519</td>\n",
       "      <td>182.000000</td>\n",
       "      <td>102.000000</td>\n",
       "    </tr>\n",
       "  </tbody>\n",
       "</table>\n",
       "</div>"
      ],
      "text/plain": [
       "            classes    #u_classes    #d_classes           sloc        #u_sloc  \\\n",
       "count   1244.000000   1244.000000   1244.000000    1244.000000    1244.000000   \n",
       "mean    8064.127814   2103.598875   5960.528939  253977.784566   55748.309486   \n",
       "std    14237.876382   9001.870281   9398.153460  372688.212960  191022.569777   \n",
       "min        9.000000      3.000000      2.000000    1231.000000    1000.000000   \n",
       "25%     1252.750000     78.000000    869.500000   45783.000000    2219.500000   \n",
       "50%     3835.000000    190.500000   2862.000000  124871.500000    5210.000000   \n",
       "75%     8903.250000    630.000000   7171.500000  310768.000000   18022.500000   \n",
       "max   191859.000000 184717.000000 120000.000000 3619934.000000 2650782.000000   \n",
       "\n",
       "             #d_sloc            v         #uv         #dv  #uv_classes  \\\n",
       "count    1244.000000  1244.000000 1244.000000 1244.000000  1244.000000   \n",
       "mean   198229.475080   665.848071  171.119775  494.728296   120.772508   \n",
       "std    286261.833375   972.091138  580.290891  747.934832   413.989882   \n",
       "min         3.000000     0.000000    0.000000    0.000000     0.000000   \n",
       "25%     33743.250000    95.750000    8.000000   36.750000     7.000000   \n",
       "50%     96265.000000   301.500000   23.000000  177.000000    19.000000   \n",
       "75%    255432.750000   850.000000   79.250000  656.750000    59.250000   \n",
       "max   3330189.000000 10064.000000 8790.000000 7955.000000  6670.000000   \n",
       "\n",
       "       #dv_classes    #uv_sloc    #dv_sloc  #dependencies       #cves  \n",
       "count  1244.000000 1244.000000 1244.000000    1244.000000 1244.000000  \n",
       "mean    362.841640    0.000751    0.002080      14.751608    7.508842  \n",
       "std     541.628440    0.001830    0.001583      18.144726   12.024743  \n",
       "min       0.000000    0.000000    0.000000       1.000000    0.000000  \n",
       "25%      31.000000    0.000069    0.000894       4.000000    0.000000  \n",
       "50%     145.000000    0.000227    0.001981       8.000000    2.000000  \n",
       "75%     463.500000    0.000842    0.002954      19.000000   11.000000  \n",
       "max    5082.000000    0.048955    0.012519     182.000000  102.000000  "
      ]
     },
     "execution_count": 2,
     "metadata": {},
     "output_type": "execute_result"
    }
   ],
   "source": [
    "VLn = sum(df['#uv_classes_sloc'])\n",
    "VLr = sum(df['#dv_classes_sloc'])\n",
    "# Add reuse ratio\n",
    "df_filtered = df[study_vars]\n",
    "pd.set_option('float_format', '{:f}'.format)\n",
    "df_filtered.describe()\n",
    "\n",
    "# df[1:100]"
   ]
  },
  {
   "cell_type": "markdown",
   "metadata": {},
   "source": [
    "<a id=\"rq1-sums\"></a>\n",
    "### RQ1 - Descriptive statistics (Sums & median)\n",
    "// TODO description \n",
    "\n",
    "[Back to table of contents](#index)"
   ]
  },
  {
   "cell_type": "code",
   "execution_count": 3,
   "metadata": {},
   "outputs": [
    {
     "name": "stdout",
     "output_type": "stream",
     "text": [
      "## Descriptive statistics for Sums ##\n",
      "C=10031775\n",
      "Cn=2616877\n",
      "Cr=7414898\n",
      "L=315948364\n",
      "Ln=69350897\n",
      "Lr=246597467\n",
      "V=828315\n",
      "Vn=212873\n",
      "Vr=615442\n",
      "VCn=150241\n",
      "VCr=451375\n",
      "VLn=15891213\n",
      "VLr=54058019\n",
      "D=18351.0\n",
      "\n"
     ]
    },
    {
     "data": {
      "text/plain": [
       "classes           3835.000000\n",
       "#u_classes         190.500000\n",
       "#d_classes        2862.000000\n",
       "sloc            124871.500000\n",
       "#u_sloc           5210.000000\n",
       "#d_sloc          96265.000000\n",
       "v                  301.500000\n",
       "#uv                 23.000000\n",
       "#dv                177.000000\n",
       "#uv_classes         19.000000\n",
       "#dv_classes        145.000000\n",
       "#uv_sloc             0.000227\n",
       "#dv_sloc             0.001981\n",
       "#dependencies        8.000000\n",
       "#cves                2.000000\n",
       "dtype: float64"
      ]
     },
     "execution_count": 3,
     "metadata": {},
     "output_type": "execute_result"
    }
   ],
   "source": [
    "C = sum(df['classes'])\n",
    "Cn = sum(df['#u_classes'])\n",
    "Cr = sum(df['#d_classes'])\n",
    "L = sum(df['sloc'])\n",
    "Ln = sum(df['#u_sloc'])\n",
    "Lr = sum(df['#d_sloc'])\n",
    "V = sum(df['v'])\n",
    "Vn = sum(df['#uv'])\n",
    "Vr = sum(df['#dv'])\n",
    "VCn = sum(df['#uv_classes'])\n",
    "VCr = sum(df['#dv_classes'])\n",
    "D = sum(df['#dependencies'])\n",
    "\n",
    "print('''## Descriptive statistics for Sums ##\n",
    "C={}\n",
    "Cn={}\n",
    "Cr={}\n",
    "L={}\n",
    "Ln={}\n",
    "Lr={}\n",
    "V={}\n",
    "Vn={}\n",
    "Vr={}\n",
    "VCn={}\n",
    "VCr={}\n",
    "VLn={}\n",
    "VLr={}\n",
    "D={}\n",
    "'''.format(C, Cn, Cr, L, Ln, Lr, V, Vn, Vr, VCn, VCr, VLn, VLr, D))\n",
    "\n",
    "# print median details\n",
    "df_filtered.median()"
   ]
  },
  {
   "cell_type": "markdown",
   "metadata": {},
   "source": [
    "<a id=\"rq1-regression\"></a>\n",
    "### RQ1 - Regression Analysis (Prepare dataset)\n",
    "// TODO description \n",
    "\n",
    "[Back to table of contents](#index)"
   ]
  },
  {
   "cell_type": "code",
   "execution_count": 4,
   "metadata": {},
   "outputs": [],
   "source": [
    "#-----------------\n",
    "# IMPORTS & CONFIG\n",
    "#-----------------\n",
    "import pandas\n",
    "import numpy\n",
    "import seaborn\n",
    "import statsmodels.formula.api as sm\n",
    "from scipy import stats\n",
    "from matplotlib import pyplot\n",
    "from IPython.display import display, HTML\n",
    "\n",
    "%matplotlib inline\n",
    "\n",
    "marker_size = 5\n",
    "\n",
    "\n",
    "\n",
    "df['dependencies'] = df['#dependencies'] # make a copy of the column without the '#' that cannot be parsed by statsmodels library \n",
    "df['cves'] = df['#cves'] # make a copy of the column without the '#' that cannot be parsed by statsmodels library \n",
    "df['reuse_ratio'] = df['#d_sloc'] / (df['#d_sloc']+df['#u_sloc']) # these variable is also declared and initialized in RQ2\n",
    "df['dv'] = df['#dv']\n",
    "df['dependency_size'] = df['#d_sloc'] / df['dependencies'] # the average size of the dependencies modules of a project\n",
    "df['cve_density'] = df['#cves'] / df['#d_sloc']\n",
    "\n",
    "#\n",
    "# Standardize beta coefficient (by z-score)\n",
    "#\n",
    "df['v_z'] = df['v'].pipe(stats.zscore)\n",
    "df['sloc_z'] = df['sloc'].pipe(stats.zscore)\n",
    "df['classes_z'] = df['classes'].pipe(stats.zscore)\n",
    "df['dependencies_z'] = df['#dependencies'].pipe(stats.zscore)\n",
    "df['cves_z'] = df['#cves'].pipe(stats.zscore)\n",
    "df['reuse_ratio_z'] = df['reuse_ratio'].pipe(stats.zscore)\n",
    "df['dv_z'] = df['dv'].pipe(stats.zscore)\n",
    "df['dependency_size_z'] = df['dependency_size'].pipe(stats.zscore)\n",
    "df['cve_density_z'] = df['cve_density'].pipe(stats.zscore)\n",
    "df['u_sloc_z'] = df['#u_sloc'].pipe(stats.zscore)\n",
    "df['d_sloc_z'] = df['#d_sloc'].pipe(stats.zscore)\n"
   ]
  },
  {
   "cell_type": "markdown",
   "metadata": {},
   "source": [
    "<a id=\"rq1-visual\"></a>\n",
    "### RQ1 - Dataset Visualization\n",
    "The following four figures present the regression line of the number of vulnerabilities against the 4 factors: _'sloc'_, _'dependencies'_, _'reuse-ratio'_ and _'classes'_.\n",
    "\n",
    "[Back to table of contents](#index)"
   ]
  },
  {
   "cell_type": "code",
   "execution_count": 5,
   "metadata": {},
   "outputs": [
    {
     "data": {
      "text/plain": [
       "<seaborn.axisgrid.FacetGrid at 0x7fc18c50afd0>"
      ]
     },
     "execution_count": 5,
     "metadata": {},
     "output_type": "execute_result"
    },
    {
     "data": {
      "image/png": "[encoded data removed]",
      "text/plain": [
       "<Figure size 360x360 with 1 Axes>"
      ]
     },
     "metadata": {
      "needs_background": "light"
     },
     "output_type": "display_data"
    },
    {
     "data": {
      "image/png": "[encoded data removed]",
      "text/plain": [
       "<Figure size 360x360 with 1 Axes>"
      ]
     },
     "metadata": {
      "needs_background": "light"
     },
     "output_type": "display_data"
    },
    {
     "data": {
      "image/png": "[encoded data removed]",
      "text/plain": [
       "<Figure size 360x360 with 1 Axes>"
      ]
     },
     "metadata": {
      "needs_background": "light"
     },
     "output_type": "display_data"
    },
    {
     "data": {
      "image/png": "[encoded data removed]",
      "text/plain": [
       "<Figure size 360x360 with 1 Axes>"
      ]
     },
     "metadata": {
      "needs_background": "light"
     },
     "output_type": "display_data"
    }
   ],
   "source": [
    "# print plots with regression line\n",
    "\n",
    "seaborn.lmplot(x='sloc',y='v',data=df,fit_reg=True, scatter_kws={\"s\": marker_size})\n",
    "# seaborn.lmplot(x='sloc_z',y='v_z',data=df,fit_reg=True, scatter_kws={\"s\": marker_size})\n",
    "seaborn.lmplot(x='dependencies',y='v',data=df,fit_reg=True, scatter_kws={\"s\": marker_size})\n",
    "# seaborn.lmplot(x='v_z',y='dependencies_z',data=df,fit_reg=True, scatter_kws={\"s\": marker_size})\n",
    "seaborn.lmplot(x='reuse_ratio', y='v',data=df,fit_reg=True, scatter_kws={\"s\": marker_size})\n",
    "# seaborn.lmplot(x='reuse_ratio_z',y='v_z',data=df,fit_reg=True, scatter_kws={\"s\": marker_size})\n",
    "seaborn.lmplot(x='classes', y='v',data=df,fit_reg=True, scatter_kws={\"s\": marker_size})\n",
    "# seaborn.lmplot(x='classes_z',y='v_z',data=df,fit_reg=True, scatter_kws={\"s\": marker_size})"
   ]
  },
  {
   "cell_type": "markdown",
   "metadata": {},
   "source": [
    "<a id=\"rq1-regression-multivariate\"></a>\n",
    "### Multivariate Regression Analysis\n",
    "Here, we calculate the standardized beta values and perform a multivariate regression analysis on the four factors: _'sloc'_, _'dependencies'_, _'reuse-ratio'_ and _'classes'_.\n",
    "\n",
    "[Back to table of contents](#index)"
   ]
  },
  {
   "cell_type": "code",
   "execution_count": 6,
   "metadata": {},
   "outputs": [
    {
     "name": "stdout",
     "output_type": "stream",
     "text": [
      "                            OLS Regression Results                            \n",
      "==============================================================================\n",
      "Dep. Variable:                    v_z   R-squared:                       0.797\n",
      "Model:                            OLS   Adj. R-squared:                  0.796\n",
      "Method:                 Least Squares   F-statistic:                     1217.\n",
      "Date:                Sat, 02 Nov 2019   Prob (F-statistic):               0.00\n",
      "Time:                        18:12:35   Log-Likelihood:                -773.15\n",
      "No. Observations:                1244   AIC:                             1556.\n",
      "Df Residuals:                    1239   BIC:                             1582.\n",
      "Df Model:                           4                                         \n",
      "Covariance Type:            nonrobust                                         \n",
      "==================================================================================\n",
      "                     coef    std err          t      P>|t|      [0.025      0.975]\n",
      "----------------------------------------------------------------------------------\n",
      "Intercept       3.816e-17      0.013   2.98e-15      1.000      -0.025       0.025\n",
      "sloc_z             0.7882      0.038     20.809      0.000       0.714       0.863\n",
      "dependencies_z     0.1225      0.020      6.030      0.000       0.083       0.162\n",
      "reuse_ratio_z      0.0399      0.014      2.889      0.004       0.013       0.067\n",
      "classes_z          0.0125      0.032      0.387      0.699      -0.051       0.076\n",
      "==============================================================================\n",
      "Omnibus:                      759.522   Durbin-Watson:                   2.002\n",
      "Prob(Omnibus):                  0.000   Jarque-Bera (JB):            63311.854\n",
      "Skew:                           1.974   Prob(JB):                         0.00\n",
      "Kurtosis:                      37.726   Cond. No.                         6.05\n",
      "==============================================================================\n",
      "\n",
      "Warnings:\n",
      "[1] Standard Errors assume that the covariance matrix of the errors is correctly specified.\n"
     ]
    }
   ],
   "source": [
    "# OLS with beta standardized \n",
    "ols_model = sm.ols(formula=\"v_z ~ sloc_z + dependencies_z + reuse_ratio_z + classes_z\", data=df)\n",
    "result = ols_model.fit()\n",
    "\n",
    "print(result.summary())\n"
   ]
  },
  {
   "cell_type": "markdown",
   "metadata": {},
   "source": [
    "<a id=\"rq1-boxplots\"></a>\n",
    "### RQ1 - Boxplots\n",
    "\n",
    "\n",
    "[Back to table of contents](#index)"
   ]
  },
  {
   "cell_type": "code",
   "execution_count": 7,
   "metadata": {},
   "outputs": [
    {
     "name": "stderr",
     "output_type": "stream",
     "text": [
      "/home/agkortzis/anaconda3/lib/python3.7/site-packages/matplotlib/figure.py:2369: UserWarning: This figure includes Axes that are not compatible with tight_layout, so results might be incorrect.\n",
      "  warnings.warn(\"This figure includes Axes that are not compatible \"\n"
     ]
    },
    {
     "data": {
      "image/png": "[encoded data removed]",
      "text/plain": [
       "<Figure size 576x288 with 4 Axes>"
      ]
     },
     "metadata": {
      "needs_background": "light"
     },
     "output_type": "display_data"
    }
   ],
   "source": [
    "import matplotlib\n",
    "import matplotlib.pyplot as plt\n",
    "\n",
    "%matplotlib inline\n",
    "\n",
    "matplotlib.rcParams['mathtext.fontset'] = 'custom'\n",
    "matplotlib.rcParams['mathtext.rm'] = 'Bitstream Vera Sans'\n",
    "matplotlib.rcParams['mathtext.it'] = 'Bitstream Vera Sans:italic'\n",
    "matplotlib.rcParams['mathtext.bf'] = 'Bitstream Vera Sans:bold'\n",
    "matplotlib.rcParams['font.family'] = 'STIXGeneral'\n",
    "\n",
    "fig, axs = plt.subplots(nrows=1, ncols=4, figsize=(8, 4), tight_layout = {'pad': 1})\n",
    "bp_vars = ['sloc', 'classes', 'dependencies', 'reuse_ratio'] \n",
    "labels = ['Design\\nsize', 'Number of\\nclasses', 'Number of\\ndependencies', 'Reuse\\nratio'] \n",
    "\n",
    "# Plot boxes\n",
    "for i in range(len(labels)):\n",
    "    bxp_df = df[bp_vars[i]]\n",
    "    axs[i].boxplot(bxp_df, showfliers=False)\n",
    "    axs[i].set_xticks([])\n",
    "#     axs[i].set_ylim([-0.0001,0.0065])\n",
    "#     axs[i].set_ylim([-0.0001,0.0100])\n",
    "    axs[i].set_title(labels[i])\n",
    "\n",
    "fig.subplots_adjust(hspace=0.1, wspace=0.5)\n",
    "\n",
    "plt.savefig(\"../../paper/figs/boxplots_rq1.pdf\")\n",
    "\n",
    "plt.show()"
   ]
  },
  {
   "cell_type": "markdown",
   "metadata": {},
   "source": [
    "<a id=\"rq1-boxplots\"></a>\n",
    "### RQ1 - Boxplots\n",
    "// TODO description<br>\n",
    "// Not applicable in the JSS statistical approach\n",
    "\n",
    "[Back to table of contents](#index)"
   ]
  },
  {
   "cell_type": "code",
   "execution_count": 8,
   "metadata": {
    "scrolled": false
   },
   "outputs": [],
   "source": [
    "# import matplotlib\n",
    "# import matplotlib.pyplot as plt\n",
    "\n",
    "# %matplotlib inline\n",
    "\n",
    "# matplotlib.rcParams['mathtext.fontset'] = 'custom'\n",
    "# matplotlib.rcParams['mathtext.rm'] = 'Bitstream Vera Sans'\n",
    "# matplotlib.rcParams['mathtext.it'] = 'Bitstream Vera Sans:italic'\n",
    "# matplotlib.rcParams['mathtext.bf'] = 'Bitstream Vera Sans:bold'\n",
    "# matplotlib.rcParams['font.family'] = 'STIXGeneral'\n",
    "\n",
    "\n",
    "# fig, axs = plt.subplots(nrows=2, ncols=3, figsize=(8, 6), tight_layout = {'pad': 1})\n",
    "# bp_vars = ['#uv', '#uv_classes', '#uv_sloc', '#dv', '#dv_classes', '#dv_sloc']\n",
    "# cols = ['Number of\\nvulnerabilities', 'Number of classes\\nwith vulnerabilities', 'Vulnrabilities\\nper SLOC']\n",
    "# rows = ['Native Code', 'Reused Code']\n",
    "\n",
    "# Plot boxes\n",
    "# for r in range(len(rows)):\n",
    "#     for c in range(len(cols)):\n",
    "#         bxp_df = df[bp_vars[r*len(cols) + c]]\n",
    "#         axs[r,c].boxplot(bxp_df, showfliers=False)\n",
    "#         axs[r,c].set_xticks([])\n",
    "\n",
    "# # Set titles\n",
    "# for ax, col in zip(axs[0], cols):\n",
    "#     ax.set_title(col)\n",
    "\n",
    "# for ax, row in zip(axs[:,0], rows):\n",
    "#     ax.set_ylabel(row, rotation=90, size='large')\n",
    "\n",
    "\n",
    "# fig.subplots_adjust(hspace=0.1, wspace=0.5)\n",
    "\n",
    "# plt.savefig(\"../../paper/figs/boxplots.pdf\")\n",
    "\n",
    "# plt.show()"
   ]
  },
  {
   "cell_type": "markdown",
   "metadata": {},
   "source": [
    "<a id=\"rq1-grouping\"></a>\n",
    "### RQ1 - Grouping analysis\n",
    "// TODO description <br>\n",
    "// Not applicable in the JSS statistical approach\n",
    "\n",
    "[Back to table of contents](#index)"
   ]
  },
  {
   "cell_type": "code",
   "execution_count": 9,
   "metadata": {},
   "outputs": [],
   "source": [
    "# import numpy as np\n",
    "# from scipy.stats import ttest_ind\n",
    "\n",
    "# def splitby_and_test(df, sort_var, test_var):    \n",
    "#     df.sort_values([sort_var], ascending=[True])\n",
    "#     dfs = np.array_split(df, 2)\n",
    "    \n",
    "#     t = ttest_ind(dfs[0][test_var],dfs[1][test_var])\n",
    "#     print(f'Comparison of {test_var} for data sorted by {sort_var}')\n",
    "#     print(f'\\tStatistic={t[0]:.2f} (p={t[1]:.2f})')\n",
    "\n",
    "\n",
    "# # df = load_dataset(projects_dataset)\n",
    "# # df = prepare_dataset(df)\n",
    "\n",
    "# splitby_and_test(df, '#u_sloc', '#uv')\n",
    "# splitby_and_test(df, '#u_sloc', '#dv')\n",
    "# splitby_and_test(df, '#d_sloc', '#uv')\n",
    "# splitby_and_test(df, '#d_sloc', '#dv')"
   ]
  },
  {
   "cell_type": "markdown",
   "metadata": {},
   "source": [
    "<a id=\"rq2\"></a>\n",
    "## RQ2\n",
    "__RQ2: \"How are potential security vulnerabilities distributed between native and reused code?\"__\n",
    "\n",
    "[Back to table of contents](#index)\n",
    "\n",
    "<a id=\"rq2-pd\"></a>\n",
    "### RQ2 - Prepare Dataset\n",
    "Define new variables for the analysis of RQ2 and calculate their standardized beta values. \n",
    "[Back to table of contents](#index)"
   ]
  },
  {
   "cell_type": "code",
   "execution_count": 10,
   "metadata": {},
   "outputs": [],
   "source": [
    "#\n",
    "# Define and calculate new variables\n",
    "#\n",
    "df['reuse_ratio'] = df['#d_sloc'] / (df['#d_sloc']+df['#u_sloc'])\n",
    "df['uv_ratio'] = df['#uv'] / df['#u_sloc']\n",
    "df['dv_ratio'] = df['#dv'] / df['#d_sloc']\n",
    "df['#v_sloc'] = (df['#uv'] + df['#dv']) / (df['#d_sloc']+df['#u_sloc']) # vulnerability density\n",
    "\n",
    "#\n",
    "# Standardize beta coefficient (by z-score)\n",
    "#\n",
    "df['reuse_ratio_z'] = df['reuse_ratio'].pipe(stats.zscore)\n",
    "df['uv_ratio_z'] = df['uv_ratio'].pipe(stats.zscore) # vulnerability density in native code\n",
    "df['dv_ratio_z'] = df['dv_ratio'].pipe(stats.zscore) # vulnerability density in reused code\n",
    "df['v_sloc_z'] = df['#v_sloc'].pipe(stats.zscore) # vulnerability density"
   ]
  },
  {
   "cell_type": "markdown",
   "metadata": {},
   "source": [
    "<a id=\"rq2-scatter\"></a>\n",
    "### RQ2 - Scatterplots\n",
    "// TODO description\n",
    "\n",
    "[Back to table of contents](#index)"
   ]
  },
  {
   "cell_type": "code",
   "execution_count": 11,
   "metadata": {},
   "outputs": [
    {
     "name": "stderr",
     "output_type": "stream",
     "text": [
      "/home/agkortzis/anaconda3/lib/python3.7/site-packages/matplotlib/figure.py:2369: UserWarning: This figure includes Axes that are not compatible with tight_layout, so results might be incorrect.\n",
      "  warnings.warn(\"This figure includes Axes that are not compatible \"\n"
     ]
    },
    {
     "data": {
      "image/png": "[encoded data removed]",
      "text/plain": [
       "<Figure size 1440x432 with 2 Axes>"
      ]
     },
     "metadata": {
      "needs_background": "light"
     },
     "output_type": "display_data"
    }
   ],
   "source": [
    "import matplotlib\n",
    "import matplotlib.pyplot as plt\n",
    "\n",
    "%matplotlib inline\n",
    "matplotlib.rcParams.update({'font.size': 16})\n",
    "fig, axs = plt.subplots(nrows=1, ncols=2, figsize=(20, 6), tight_layout = {'pad': 1})\n",
    "label_size = 24\n",
    "\n",
    "axs[0].scatter(df['uv_ratio'], df['reuse_ratio'],s=5,cmap='bwr')\n",
    "axs[0].set_xlim([-0.0001,0.02])\n",
    "axs[0].set_xlabel(\"Native Vulnerability Density\", fontsize=label_size)\n",
    "axs[0].set_ylabel('Reuse Ratio', rotation=90, fontsize=label_size)\n",
    "axs[1].scatter(df['dv_ratio'], df['reuse_ratio'],s=5,cmap='bwr')\n",
    "axs[1].set_xlim([-0.0001,0.01])\n",
    "axs[1].set_xlabel(\"Reused Vulnerability Density\", fontsize=label_size)\n",
    "axs[1].set_yticks([])\n",
    "\n",
    "fig.subplots_adjust(wspace=0.1)\n",
    "plt.savefig(\"../../paper/figs/scatter_plots.pdf\")\n",
    "plt.show()"
   ]
  },
  {
   "cell_type": "markdown",
   "metadata": {},
   "source": [
    "<a id=\"rq2-boxplots2\"></a>\n",
    "### RQ2 - Boxplots\n",
    "// TODO description\n",
    "\n",
    "[Back to table of contents](#index)"
   ]
  },
  {
   "cell_type": "code",
   "execution_count": 12,
   "metadata": {},
   "outputs": [
    {
     "name": "stderr",
     "output_type": "stream",
     "text": [
      "/home/agkortzis/anaconda3/lib/python3.7/site-packages/matplotlib/figure.py:2369: UserWarning: This figure includes Axes that are not compatible with tight_layout, so results might be incorrect.\n",
      "  warnings.warn(\"This figure includes Axes that are not compatible \"\n"
     ]
    },
    {
     "data": {
      "image/png": "[encoded data removed]",
      "text/plain": [
       "<Figure size 576x288 with 3 Axes>"
      ]
     },
     "metadata": {
      "needs_background": "light"
     },
     "output_type": "display_data"
    }
   ],
   "source": [
    "import matplotlib\n",
    "import matplotlib.pyplot as plt\n",
    "\n",
    "%matplotlib inline\n",
    "\n",
    "matplotlib.rcParams['mathtext.fontset'] = 'custom'\n",
    "matplotlib.rcParams['mathtext.rm'] = 'Bitstream Vera Sans'\n",
    "matplotlib.rcParams['mathtext.it'] = 'Bitstream Vera Sans:italic'\n",
    "matplotlib.rcParams['mathtext.bf'] = 'Bitstream Vera Sans:bold'\n",
    "matplotlib.rcParams['font.family'] = 'STIXGeneral'\n",
    "\n",
    "fig, axs = plt.subplots(nrows=1, ncols=3, figsize=(8, 4), tight_layout = {'pad': 1})\n",
    "bp_vars = ['uv_ratio', 'dv_ratio', '#v_sloc'] #'reuse_ratio'\n",
    "labels = ['Native\\nvulnerabilities density', 'Reused\\nvulnerabilities density', 'Overall\\nvulnerabilities density'] #'Reuse ratio', \n",
    "\n",
    "# Plot boxes\n",
    "for i in range(len(labels)):\n",
    "    bxp_df = df[bp_vars[i]]\n",
    "    axs[i].boxplot(bxp_df, showfliers=False)\n",
    "    axs[i].set_xticks([])\n",
    "    axs[i].set_ylim([-0.0001,0.0065])\n",
    "    axs[i].set_ylim([-0.0001,0.0100])\n",
    "    axs[i].set_title(labels[i])\n",
    "\n",
    "fig.subplots_adjust(hspace=0.1, wspace=0.5)\n",
    "\n",
    "plt.savefig(\"../../paper/figs/boxplots2.pdf\")\n",
    "\n",
    "plt.show()"
   ]
  },
  {
   "cell_type": "markdown",
   "metadata": {},
   "source": [
    "## TODO update text here"
   ]
  },
  {
   "cell_type": "code",
   "execution_count": 29,
   "metadata": {},
   "outputs": [
    {
     "name": "stderr",
     "output_type": "stream",
     "text": [
      "/home/agkortzis/anaconda3/lib/python3.7/site-packages/matplotlib/figure.py:2369: UserWarning: This figure includes Axes that are not compatible with tight_layout, so results might be incorrect.\n",
      "  warnings.warn(\"This figure includes Axes that are not compatible \"\n"
     ]
    },
    {
     "data": {
      "image/png": "[encoded data removed]",
      "text/plain": [
       "<Figure size 432x288 with 1 Axes>"
      ]
     },
     "metadata": {
      "needs_background": "light"
     },
     "output_type": "display_data"
    }
   ],
   "source": [
    "%matplotlib inline\n",
    "\n",
    "matplotlib.rcParams['mathtext.fontset'] = 'custom'\n",
    "matplotlib.rcParams['mathtext.rm'] = 'Bitstream Vera Sans'\n",
    "matplotlib.rcParams['mathtext.it'] = 'Bitstream Vera Sans:italic'\n",
    "matplotlib.rcParams['mathtext.bf'] = 'Bitstream Vera Sans:bold'\n",
    "matplotlib.rcParams['font.family'] = 'STIXGeneral'\n",
    "\n",
    "# Multiple box plots on one Axes\n",
    "boxplots_df = [df[bp_vars[0]]*1000, df[bp_vars[1]]*1000, df[bp_vars[2]]*1000]\n",
    "\n",
    "fig = plt.figure(1, figsize=(6, 4),tight_layout = {'pad': 1})\n",
    "\n",
    "# fig, ax = plt.subplots(figsize=(10, 6), tight_layout = {'pad': 1})\n",
    "\n",
    "# Create an axes instance\n",
    "ax = fig.add_subplot(111)\n",
    "ax.boxplot(boxplots_df, showfliers=False, widths=0.15)\n",
    "\n",
    "\n",
    "# ax.set_xticks([])\n",
    "ax.set_ylim([-0.0001*1000,0.0100*1000])\n",
    "ax.yaxis.grid(False)\n",
    "## Custom x-axis labels\n",
    "ax.set_xticklabels(labels)\n",
    "ax.set_axisbelow(True)\n",
    "\n",
    "# Create the boxplot\n",
    "# bp = ax.boxplot(boxplots_df)\n",
    "plt.savefig(\"../../paper/figs/boxplots_rq2_compact.pdf\")\n",
    "plt.show()"
   ]
  },
  {
   "cell_type": "markdown",
   "metadata": {},
   "source": [
    "<a id=\"rq2-regression\"></a>\n",
    "### RQ2 - Regression Analysis [vuln-density, reuse-ratio]\n",
    "In the following analysis we investigate how reuse ratio in a project is related to its vulnerability density. \n",
    "\n",
    "The results show that there is no evidence that these two variables are somehow related.\n",
    "\n",
    "[Back to table of contents](#index)"
   ]
  },
  {
   "cell_type": "code",
   "execution_count": 14,
   "metadata": {},
   "outputs": [
    {
     "name": "stdout",
     "output_type": "stream",
     "text": [
      "                            OLS Regression Results                            \n",
      "==============================================================================\n",
      "Dep. Variable:               v_sloc_z   R-squared:                       0.000\n",
      "Model:                            OLS   Adj. R-squared:                 -0.000\n",
      "Method:                 Least Squares   F-statistic:                    0.6064\n",
      "Date:                Sat, 02 Nov 2019   Prob (F-statistic):              0.436\n",
      "Time:                        18:12:37   Log-Likelihood:                -1764.9\n",
      "No. Observations:                1244   AIC:                             3534.\n",
      "Df Residuals:                    1242   BIC:                             3544.\n",
      "Df Model:                           1                                         \n",
      "Covariance Type:            nonrobust                                         \n",
      "=================================================================================\n",
      "                    coef    std err          t      P>|t|      [0.025      0.975]\n",
      "---------------------------------------------------------------------------------\n",
      "Intercept     -3.903e-17      0.028  -1.38e-15      1.000      -0.056       0.056\n",
      "reuse_ratio_z    -0.0221      0.028     -0.779      0.436      -0.078       0.034\n",
      "==============================================================================\n",
      "Omnibus:                     1970.673   Durbin-Watson:                   1.902\n",
      "Prob(Omnibus):                  0.000   Jarque-Bera (JB):          1818259.128\n",
      "Skew:                           9.409   Prob(JB):                         0.00\n",
      "Kurtosis:                     189.346   Cond. No.                         1.00\n",
      "==============================================================================\n",
      "\n",
      "Warnings:\n",
      "[1] Standard Errors assume that the covariance matrix of the errors is correctly specified.\n"
     ]
    },
    {
     "data": {
      "text/plain": [
       "<seaborn.axisgrid.FacetGrid at 0x7fc15e2c62b0>"
      ]
     },
     "execution_count": 14,
     "metadata": {},
     "output_type": "execute_result"
    },
    {
     "data": {
      "image/png": "[encoded data removed]",
      "text/plain": [
       "<Figure size 360x360 with 1 Axes>"
      ]
     },
     "metadata": {
      "needs_background": "light"
     },
     "output_type": "display_data"
    }
   ],
   "source": [
    "# OLS with beta standardized \n",
    "df['v_sloc'] = df['#v_sloc']\n",
    "ols_model = sm.ols(formula=\"v_sloc_z ~ reuse_ratio_z\", data=df)\n",
    "result = ols_model.fit()\n",
    "\n",
    "print(result.summary())\n",
    "\n",
    "seaborn.lmplot(x='reuse_ratio', y='#v_sloc',data=df,fit_reg=True, scatter_kws={\"s\": marker_size})"
   ]
  },
  {
   "cell_type": "markdown",
   "metadata": {},
   "source": [
    "<a id=\"rq2-regression2\"></a>\n",
    "### RQ2 - Regression Analysis [native-vuln-density, reuse-ratio]\n",
    "In the following analysis we investigate how reuse ratio in a project is related to its vulnerability density in the native code. \n",
    "\n",
    "The results show that there is a weak correlation between the two variables. \n",
    "__Very unexpected results__: How can we interprete? \n",
    "\n",
    "[Back to table of contents](#index)"
   ]
  },
  {
   "cell_type": "code",
   "execution_count": 15,
   "metadata": {},
   "outputs": [
    {
     "name": "stdout",
     "output_type": "stream",
     "text": [
      "                            OLS Regression Results                            \n",
      "==============================================================================\n",
      "Dep. Variable:             uv_ratio_z   R-squared:                       0.040\n",
      "Model:                            OLS   Adj. R-squared:                  0.040\n",
      "Method:                 Least Squares   F-statistic:                     52.36\n",
      "Date:                Sat, 02 Nov 2019   Prob (F-statistic):           8.06e-13\n",
      "Time:                        18:12:38   Log-Likelihood:                -1739.5\n",
      "No. Observations:                1244   AIC:                             3483.\n",
      "Df Residuals:                    1242   BIC:                             3493.\n",
      "Df Model:                           1                                         \n",
      "Covariance Type:            nonrobust                                         \n",
      "=================================================================================\n",
      "                    coef    std err          t      P>|t|      [0.025      0.975]\n",
      "---------------------------------------------------------------------------------\n",
      "Intercept      9.714e-17      0.028   3.49e-15      1.000      -0.055       0.055\n",
      "reuse_ratio_z     0.2011      0.028      7.236      0.000       0.147       0.256\n",
      "==============================================================================\n",
      "Omnibus:                     1350.926   Durbin-Watson:                   1.927\n",
      "Prob(Omnibus):                  0.000   Jarque-Bera (JB):           141077.522\n",
      "Skew:                           5.142   Prob(JB):                         0.00\n",
      "Kurtosis:                      54.147   Cond. No.                         1.00\n",
      "==============================================================================\n",
      "\n",
      "Warnings:\n",
      "[1] Standard Errors assume that the covariance matrix of the errors is correctly specified.\n"
     ]
    },
    {
     "data": {
      "text/plain": [
       "<seaborn.axisgrid.FacetGrid at 0x7fc15e3e13c8>"
      ]
     },
     "execution_count": 15,
     "metadata": {},
     "output_type": "execute_result"
    },
    {
     "data": {
      "image/png": "[encoded data removed]",
      "text/plain": [
       "<Figure size 360x360 with 1 Axes>"
      ]
     },
     "metadata": {
      "needs_background": "light"
     },
     "output_type": "display_data"
    }
   ],
   "source": [
    "# OLS with beta standardized \n",
    "ols_model = sm.ols(formula=\"uv_ratio_z ~ reuse_ratio_z\", data=df)\n",
    "result = ols_model.fit()\n",
    "\n",
    "print(result.summary())\n",
    "\n",
    "seaborn.lmplot(x='reuse_ratio_z', y='uv_ratio_z',data=df,fit_reg=True, scatter_kws={\"s\": marker_size})"
   ]
  },
  {
   "cell_type": "markdown",
   "metadata": {},
   "source": [
    "<a id=\"rq2-regression3\"></a>\n",
    "### RQ2 - Multivariate Regression Analysis [vuln-density, native-sloc, reuse-sloc]\n",
    "In the following analysis we investigate how native and reused code contribute to the vulnerability density of the project. \n",
    "<!--\n",
    "The results show that there is a weak correlation between the two variables. \n",
    "__Very unexpected results__: How can we interprete? \n",
    "-->\n",
    "\n",
    "[Back to table of contents](#index)"
   ]
  },
  {
   "cell_type": "code",
   "execution_count": 16,
   "metadata": {},
   "outputs": [
    {
     "name": "stdout",
     "output_type": "stream",
     "text": [
      "                            OLS Regression Results                            \n",
      "==============================================================================\n",
      "Dep. Variable:             uv_ratio_z   R-squared:                       0.020\n",
      "Model:                            OLS   Adj. R-squared:                  0.019\n",
      "Method:                 Least Squares   F-statistic:                     12.73\n",
      "Date:                Sat, 02 Nov 2019   Prob (F-statistic):           3.36e-06\n",
      "Time:                        18:12:39   Log-Likelihood:                -1752.5\n",
      "No. Observations:                1244   AIC:                             3511.\n",
      "Df Residuals:                    1241   BIC:                             3526.\n",
      "Df Model:                           2                                         \n",
      "Covariance Type:            nonrobust                                         \n",
      "==============================================================================\n",
      "                 coef    std err          t      P>|t|      [0.025      0.975]\n",
      "------------------------------------------------------------------------------\n",
      "Intercept   9.714e-17      0.028   3.46e-15      1.000      -0.055       0.055\n",
      "u_sloc_z      -0.1209      0.029     -4.228      0.000      -0.177      -0.065\n",
      "d_sloc_z       0.1000      0.029      3.497      0.000       0.044       0.156\n",
      "==============================================================================\n",
      "Omnibus:                     1339.622   Durbin-Watson:                   1.936\n",
      "Prob(Omnibus):                  0.000   Jarque-Bera (JB):           134757.423\n",
      "Skew:                           5.080   Prob(JB):                         0.00\n",
      "Kurtosis:                      52.966   Cond. No.                         1.21\n",
      "==============================================================================\n",
      "\n",
      "Warnings:\n",
      "[1] Standard Errors assume that the covariance matrix of the errors is correctly specified.\n"
     ]
    }
   ],
   "source": [
    "# OLS with beta standardized \n",
    "ols_model = sm.ols(formula=\"uv_ratio_z ~ u_sloc_z + d_sloc_z\", data=df)\n",
    "result = ols_model.fit()\n",
    "\n",
    "print(result.summary())"
   ]
  },
  {
   "cell_type": "markdown",
   "metadata": {},
   "source": [
    "<a id=\"rq2-regression4\"></a>\n",
    "### RQ2 - Multivariate Regression Analysis [vuln-density, native-vuln-density, reuse-vuln-density]\n",
    "In the following analysis we investigate how native and reused code contribute to the vulnerability density of the project. \n",
    "\n",
    "[Back to table of contents](#index)"
   ]
  },
  {
   "cell_type": "code",
   "execution_count": 17,
   "metadata": {},
   "outputs": [
    {
     "name": "stdout",
     "output_type": "stream",
     "text": [
      "                            OLS Regression Results                            \n",
      "==============================================================================\n",
      "Dep. Variable:               v_sloc_z   R-squared:                       0.584\n",
      "Model:                            OLS   Adj. R-squared:                  0.583\n",
      "Method:                 Least Squares   F-statistic:                     870.4\n",
      "Date:                Sat, 02 Nov 2019   Prob (F-statistic):          5.96e-237\n",
      "Time:                        18:12:39   Log-Likelihood:                -1219.9\n",
      "No. Observations:                1244   AIC:                             2446.\n",
      "Df Residuals:                    1241   BIC:                             2461.\n",
      "Df Model:                           2                                         \n",
      "Covariance Type:            nonrobust                                         \n",
      "==============================================================================\n",
      "                 coef    std err          t      P>|t|      [0.025      0.975]\n",
      "------------------------------------------------------------------------------\n",
      "Intercept  -3.903e-17      0.018  -2.13e-15      1.000      -0.036       0.036\n",
      "uv_ratio_z     0.2964      0.019     15.781      0.000       0.260       0.333\n",
      "dv_ratio_z     0.6414      0.019     34.151      0.000       0.605       0.678\n",
      "==============================================================================\n",
      "Omnibus:                     2082.570   Durbin-Watson:                   1.993\n",
      "Prob(Omnibus):                  0.000   Jarque-Bera (JB):          2777270.588\n",
      "Skew:                          10.430   Prob(JB):                         0.00\n",
      "Kurtosis:                     233.533   Cond. No.                         1.25\n",
      "==============================================================================\n",
      "\n",
      "Warnings:\n",
      "[1] Standard Errors assume that the covariance matrix of the errors is correctly specified.\n"
     ]
    }
   ],
   "source": [
    "# OLS with beta standardized \n",
    "ols_model = sm.ols(formula=\"v_sloc_z ~ uv_ratio_z + dv_ratio_z\", data=df)\n",
    "result = ols_model.fit()\n",
    "\n",
    "print(result.summary())"
   ]
  },
  {
   "cell_type": "markdown",
   "metadata": {},
   "source": [
    "<a id=\"rq3\"></a>\n",
    "## RQ3\n",
    "__RQ3: \"To What extent do open source projects suffer from vulnerabilities introduced through dependencies?\"__.\n",
    "For that RQ we collect information from the the OWASP dependenvcy-check tool in order to find how projects may use \n",
    "\n",
    "[Back to table of contents](#index)\n",
    "\n",
    "\n",
    "<a id=\"rq3-dd\"></a>\n",
    "### RQ3 - Dataset Description\n",
    "Vizualize how projects are distributed based to the number of their disclosed vulnerabilities. \n",
    "\n",
    "[Back to table of contents](#index)"
   ]
  },
  {
   "cell_type": "code",
   "execution_count": 18,
   "metadata": {},
   "outputs": [
    {
     "ename": "NameError",
     "evalue": "name 'sns' is not defined",
     "output_type": "error",
     "traceback": [
      "\u001b[0;31m---------------------------------------------------------------------------\u001b[0m",
      "\u001b[0;31mNameError\u001b[0m                                 Traceback (most recent call last)",
      "\u001b[0;32m<ipython-input-18-9b94918763a5>\u001b[0m in \u001b[0;36m<module>\u001b[0;34m\u001b[0m\n\u001b[1;32m      4\u001b[0m \u001b[0;31m# df = df['#cves'] > 0\u001b[0m\u001b[0;34m\u001b[0m\u001b[0;34m\u001b[0m\u001b[0;34m\u001b[0m\u001b[0m\n\u001b[1;32m      5\u001b[0m \u001b[0;34m\u001b[0m\u001b[0m\n\u001b[0;32m----> 6\u001b[0;31m \u001b[0msns\u001b[0m\u001b[0;34m.\u001b[0m\u001b[0mset\u001b[0m\u001b[0;34m(\u001b[0m\u001b[0mfont_scale\u001b[0m\u001b[0;34m=\u001b[0m\u001b[0;36m1.1\u001b[0m\u001b[0;34m)\u001b[0m\u001b[0;34m\u001b[0m\u001b[0;34m\u001b[0m\u001b[0m\n\u001b[0m\u001b[1;32m      7\u001b[0m \u001b[0max\u001b[0m \u001b[0;34m=\u001b[0m \u001b[0msns\u001b[0m\u001b[0;34m.\u001b[0m\u001b[0mviolinplot\u001b[0m\u001b[0;34m(\u001b[0m\u001b[0my\u001b[0m\u001b[0;34m=\u001b[0m\u001b[0mdf\u001b[0m\u001b[0;34m[\u001b[0m\u001b[0;34m'#cves'\u001b[0m\u001b[0;34m]\u001b[0m\u001b[0;34m)\u001b[0m\u001b[0;34m\u001b[0m\u001b[0;34m\u001b[0m\u001b[0m\n\u001b[1;32m      8\u001b[0m \u001b[0mfig\u001b[0m \u001b[0;34m=\u001b[0m \u001b[0max\u001b[0m\u001b[0;34m.\u001b[0m\u001b[0mget_figure\u001b[0m\u001b[0;34m(\u001b[0m\u001b[0;34m)\u001b[0m\u001b[0;34m\u001b[0m\u001b[0;34m\u001b[0m\u001b[0m\n",
      "\u001b[0;31mNameError\u001b[0m: name 'sns' is not defined"
     ]
    }
   ],
   "source": [
    "# df = load_dataset(projects_dataset)\n",
    "# df = prepare_dataset(df)\n",
    "# df = enhance_dataset(df, projects_dependencies, projects_vulnerabilities)\n",
    "# df = df['#cves'] > 0\n",
    "\n",
    "sns.set(font_scale=1.1)\n",
    "ax = sns.violinplot(y=df['#cves'])\n",
    "fig = ax.get_figure()\n",
    "ax.set_xlabel(\"Disclosed Vulnerabilities in Projects\")\n",
    "ax.set_ylabel(\"Observed values\")\n",
    "\n",
    "fig.savefig('../../paper/figs/rq3_violin.pdf')\n",
    "\n",
    "\n",
    "# seaborn.violinplot(y=df['#cves'])"
   ]
  },
  {
   "cell_type": "markdown",
   "metadata": {},
   "source": [
    "<a id=\"rq3-regression\"></a>\n",
    "### RQ3 - Regression Analysis [#cves - #dependencies]\n",
    "Perform a regression analysis to investigate how the number of the disclosed vulnerabilities of a project is related to the number of its dependencies.\n",
    "\n",
    "[Back to table of contents](#index)"
   ]
  },
  {
   "cell_type": "code",
   "execution_count": null,
   "metadata": {},
   "outputs": [],
   "source": [
    "# OLS with beta standardized \n",
    "ols_model = sm.ols(formula=\"cves_z ~ dependencies_z\", data=df)\n",
    "result = ols_model.fit()\n",
    "\n",
    "print(result.summary())\n",
    "\n",
    "# print plots with regression line\n",
    "seaborn.lmplot(x='dependencies',y='cves',data=df,fit_reg=True, scatter_kws={\"s\": marker_size})\n"
   ]
  },
  {
   "cell_type": "markdown",
   "metadata": {},
   "source": [
    "<a id=\"rq3-regression-potential\"></a>\n",
    "### RQ3 - Regression Analysis [#v - #dependencies]\n",
    "\n",
    "Perform a regression analysis to investigate how the number of the disclosed vulnerabilities of a project is related to the number of its dependencies.\n",
    "\n",
    "[Back to table of contents](#index)"
   ]
  },
  {
   "cell_type": "code",
   "execution_count": null,
   "metadata": {},
   "outputs": [],
   "source": [
    "# OLS with beta standardized \n",
    "ols_model = sm.ols(formula=\"v_z ~ dependencies_z\", data=df)\n",
    "result = ols_model.fit()\n",
    "\n",
    "print(result.summary())\n",
    "\n",
    "# print plots with regression line\n",
    "seaborn.lmplot(x='dependencies',y='v',data=df,fit_reg=True, scatter_kws={\"s\": marker_size})\n"
   ]
  },
  {
   "cell_type": "markdown",
   "metadata": {},
   "source": [
    "<a id=\"rq3-regression2\"></a>\n",
    "### RQ3 - Regression Analysis [#cves - #module_size]\n",
    "Perform a regression analysis to investigate how the number of the disclosed vulnerabilities of a project is related to the size of its dependencies.\n",
    "\n",
    "The results show that the size of a module(dependency) is not related to the number of its disclosed vulnerablities. \n",
    "\n",
    "[Back to table of contents](#index)"
   ]
  },
  {
   "cell_type": "code",
   "execution_count": null,
   "metadata": {},
   "outputs": [],
   "source": [
    "# OLS with beta standardized \n",
    "ols_model = sm.ols(formula=\"cves_z ~ dependency_size_z\", data=df)\n",
    "result = ols_model.fit()\n",
    "\n",
    "print(result.summary())\n",
    "\n",
    "# print plots with regression line\n",
    "seaborn.lmplot(x='dependency_size',y='cves',data=df,fit_reg=True, scatter_kws={\"s\": marker_size})"
   ]
  },
  {
   "cell_type": "markdown",
   "metadata": {},
   "source": [
    "<a id=\"rq3-regression3\"></a>\n",
    "### RQ3 - Regression Analysis [#cve-density - #dependencies]\n",
    "Perform a regression analysis to investigate how the cve density of a project is related to the number of its dependencies.\n",
    "\n",
    "[Back to table of contents](#index)"
   ]
  },
  {
   "cell_type": "code",
   "execution_count": null,
   "metadata": {},
   "outputs": [],
   "source": [
    "df = df[df['cve_density'] < 0.2] # filter a great outlier\n",
    "\n",
    "# OLS with beta standardized \n",
    "ols_model = sm.ols(formula=\"cve_density_z ~ dependencies_z\", data=df)\n",
    "result = ols_model.fit()\n",
    "\n",
    "print(result.summary())\n",
    "\n",
    "seaborn.lmplot(x='dependencies', y='cve_density',data=df,fit_reg=True, scatter_kws={\"s\": marker_size})"
   ]
  },
  {
   "cell_type": "markdown",
   "metadata": {},
   "source": [
    "<a id=\"rq3-regression-multi\"></a>\n",
    "### RQ3 - Multivariate Regression Analysis\n",
    "Perform a multivariate regression analysis to investigate how the cves of a project is related to the following variables: number of its dependencies, size of the depndencies, reused_code.\n",
    "\n",
    "[Back to table of contents](#index)"
   ]
  },
  {
   "cell_type": "code",
   "execution_count": null,
   "metadata": {},
   "outputs": [],
   "source": [
    "# OLS with beta standardized \n",
    "ols_model = sm.ols(formula=\"cves_z ~ dependencies_z + dependency_size_z + d_sloc_z\", data=df)\n",
    "result = ols_model.fit()\n",
    "\n",
    "print(result.summary())"
   ]
  },
  {
   "cell_type": "code",
   "execution_count": null,
   "metadata": {},
   "outputs": [],
   "source": [
    "# print plots with regression line\n",
    "\n",
    "seaborn.lmplot(x='dependencies_z',y='cves_z',data=df,fit_reg=True, scatter_kws={\"s\": marker_size})\n",
    "seaborn.lmplot(x='dependency_size_z',y='cves_z',data=df,fit_reg=True, scatter_kws={\"s\": marker_size})\n",
    "seaborn.lmplot(x='d_sloc_z', y='cves_z',data=df,fit_reg=True, scatter_kws={\"s\": marker_size})\n",
    "seaborn.lmplot(x='dependency_size_z',y='d_sloc_z',data=df,fit_reg=True, scatter_kws={\"s\": marker_size})\n",
    "seaborn.lmplot(x='dependencies_z',y='d_sloc_z',data=df,fit_reg=True, scatter_kws={\"s\": marker_size})\n",
    "\n"
   ]
  },
  {
   "cell_type": "markdown",
   "metadata": {},
   "source": [
    "<a id=\"rq3-count\"></a>\n",
    "### RQ3 - Vulnerable projects\n",
    "The following script identifies projects that contain at least one vulnerable dependency.\n",
    "\n",
    "[Back to table of contents](#index)"
   ]
  },
  {
   "cell_type": "code",
   "execution_count": null,
   "metadata": {},
   "outputs": [],
   "source": [
    "vul_projects = df[df['#cves'] > 0]\n",
    "print(\"Vulnerable projects {} out of {} [{:2.2%}]\".format(len(vul_projects.index), len(df.index), len(vul_projects.index)/len(df.index)))"
   ]
  },
  {
   "cell_type": "markdown",
   "metadata": {},
   "source": [
    "<a id=\"rq4\"></a>\n",
    "## RQ4\n",
    "__RQ4: \"How is the use frequency of a dependency related to its disclosed vulnerabilities\"__.\n",
    "For this RQ we: \n",
    "1. Generate the dataset and present the descriptive statistics,\n",
    "2. Count the vulnerable dependencies\n",
    "3. Perform a univariate regression analysis between the number of vulnerabilities and its use frequency.\n",
    "\n",
    "[Back to table of contents](#index)\n",
    "\n",
    "\n",
    "<a id=\"rq4-pd\"></a>\n",
    "### RQ4 - Prepare dataset\n",
    "The following code generates the dataset used for answering RQ4 and presents its descriptive statistics. \n",
    "[Back to table of contents](#index)"
   ]
  },
  {
   "cell_type": "code",
   "execution_count": null,
   "metadata": {},
   "outputs": [],
   "source": [
    "import csv\n",
    "import logging\n",
    "import pandas as pd\n",
    "\n",
    "logging.basicConfig(level=logging.INFO)\n",
    "\n",
    "def get_dependencies(dependencies_usages):\n",
    "    dependencies = []\n",
    "    with open(dependencies_usages, 'r') as csv_file:\n",
    "        csv_reader = csv.reader(csv_file, delimiter=';')\n",
    "        for row in csv_reader:\n",
    "            logging.debug(\"{}::{}\".format(row[0],row[1]))\n",
    "            dependencies.append([row[0],row[1]])\n",
    "    \n",
    "    return dependencies\n",
    "\n",
    "\n",
    "def get_vulnerabilities(owasp_vulnerabilities):\n",
    "    dependencies_vulns = {}\n",
    "    with open(owasp_vulnerabilities, 'r') as csv_file:\n",
    "        csv_reader = csv.reader(csv_file, delimiter=';')\n",
    "        for row in csv_reader:\n",
    "            logging.debug(\"{}::{}\".format(row[0],row[1]))\n",
    "            dependencies_vulns[row[0]] = row[1]\n",
    "    \n",
    "    return dependencies_vulns\n",
    "\n",
    "def get_potential_vulnerabilities(depependencies_spotbugs):\n",
    "    depependencies_potential_vulns = {}\n",
    "    with open(depependencies_spotbugs, 'r') as csv_file:\n",
    "        csv_reader = csv.reader(csv_file, delimiter=';')\n",
    "        for row in csv_reader:\n",
    "            logging.debug(\"{}::{}\".format(row[0],row[1]))\n",
    "            depependencies_potential_vulns[row[0]] = row[1]\n",
    "    \n",
    "    return depependencies_potential_vulns\n",
    "    \n",
    "    \n",
    "def create_dataset(dependencies_usages, owasp_vulnerabilities, depependencies_spotbugs):\n",
    "    dependencies = get_dependencies(dependencies_usages)\n",
    "    logging.info(\"Dependencies with usages :: {}\".format(len(dependencies)))\n",
    "    dependencies_vulns = get_vulnerabilities(owasp_vulnerabilities)\n",
    "    logging.info(\"Dependencies with vulnerabilities :: {}\".format(len(dependencies_vulns)))\n",
    "    depependencies_potential_vulns = get_potential_vulnerabilities(depependencies_spotbugs)\n",
    "    logging.info(\"Dependencies with potential vulnerabilities :: {}\".format(len(depependencies_potential_vulns)))\n",
    "    data = []\n",
    "    \n",
    "    logging.info(\"Creating dataset...\")\n",
    "    for entry in dependencies:\n",
    "        logging.debug(\"Parsing usage dependency :: {}\".format(entry))\n",
    "        dependency = entry[0]\n",
    "        usages = int(entry[1])\n",
    "        vulns = 0\n",
    "        potential_vulns = 0\n",
    "        if dependency not in dependencies_vulns:\n",
    "            logging.warning(\"Dependency not in owasp reports :: {}\".format(dependency))\n",
    "        else:\n",
    "            vulns = int(dependencies_vulns[dependency])\n",
    "        if dependency not in depependencies_potential_vulns:\n",
    "            logging.warning(\"Dependency not in spotbugs reports :: {}\".format(dependency))\n",
    "        else:\n",
    "            potential_vulns = int(depependencies_potential_vulns[dependency])\n",
    "            \n",
    "        data_entry = [dependency, usages, vulns, potential_vulns]\n",
    "        data.append(data_entry)\n",
    "    \n",
    "    return data\n",
    "\n",
    "owasp_vulnerabilities = '../owasp_vulnerabilities.csv'\n",
    "dependencies_usages = '../depependencies_usages.csv'\n",
    "depependencies_spotbugs = \"../depependencies_spotbugs.csv\"\n",
    "\n",
    "data = create_dataset(dependencies_usages, owasp_vulnerabilities, depependencies_spotbugs)\n",
    "logging.info(\"Created dataset with {} entries\".format(len(data)))\n",
    "# print(data[1:10])\n",
    "df_vulnerable = pd.DataFrame(data, columns = ['Dependency', 'Usages', 'Vulnerabilities', 'Potential_vulns'])\n",
    "# df_vulnerable[1:10]\n",
    "df_vulnerable.describe()"
   ]
  },
  {
   "cell_type": "markdown",
   "metadata": {},
   "source": [
    "<a id=\"rq4-count\"></a>\n",
    "### RQ4 - Count Vulnerable dependencies\n",
    "In this step we analyze the dependencies used in the projects and report those that are vulnerable with at least one disclosed vulnerability. \n",
    "\n",
    "[Back to table of contents](#index)"
   ]
  },
  {
   "cell_type": "code",
   "execution_count": null,
   "metadata": {},
   "outputs": [],
   "source": [
    "import numpy as np\n",
    "import pandas as pd\n",
    "import seaborn as sns\n",
    "from scipy import stats\n",
    "\n",
    "# df_vulnerable[1:10]\n",
    "df_vulnerable_filtered = df_vulnerable[df_vulnerable['Vulnerabilities'] > 0] # exclude non-vulnerable dependencies\n",
    "df_vulnerable_filtered = df_vulnerable_filtered[df_vulnerable_filtered['Vulnerabilities'] < 40] # exclude one extreme (outlier) value\n",
    "# df_vulnerable = df_vulnerable[df_vulnerable['Usages'] < 40] # exclude one extreme (outlier) value\n",
    "\n",
    "print(\"Found {} vulnerable dependencies out of {} total [{:2.2%}]\".format(len(df_vulnerable_filtered.index), len(df_vulnerable.index), len(df_vulnerable_filtered.index)/len(df_vulnerable.index)))\n",
    "\n",
    "sns.set(font_scale=1.1)\n",
    "ax = sns.violinplot(y=df_vulnerable_filtered['Vulnerabilities'])\n",
    "fig = ax.get_figure()\n",
    "ax.set_ylabel(\"Disclosed Vulnerabilities\")\n",
    "fig.savefig('../../paper/figs/rq4_violin.pdf')\n",
    "# df_vulnerable_filtered.plot(kind='scatter',x='Usages',y='Vulnerabilities',color='red')\n",
    "# df_vulnerable[1:10]\n"
   ]
  },
  {
   "cell_type": "markdown",
   "metadata": {},
   "source": [
    "<a id=\"rq4-regression\"></a>\n",
    "### RQ4 - Regression Analysis [CVEs - Usages]\n",
    "\n",
    "\n",
    "[Back to table of contents](#index)"
   ]
  },
  {
   "cell_type": "code",
   "execution_count": null,
   "metadata": {},
   "outputs": [],
   "source": [
    "# todo zero values\n",
    "df_vulnerable_filtered['Vulnerabilities_z'] = df_vulnerable_filtered['Vulnerabilities'].pipe(stats.zscore)\n",
    "df_vulnerable_filtered['Usages_z'] = df_vulnerable_filtered['Usages'].pipe(stats.zscore)\n",
    "\n",
    "# OLS with beta standardized \n",
    "ols_model = sm.ols(formula=\"Vulnerabilities_z ~ Usages_z\", data=df_vulnerable_filtered)\n",
    "result = ols_model.fit()\n",
    "\n",
    "print(result.summary())\n",
    "\n",
    "# print plots with regression line\n",
    "# seaborn.lmplot(x='sloc',y='v',data=df,fit_reg=True, scatter_kws={\"s\": marker_size})\n",
    "seaborn.lmplot(x='Vulnerabilities_z',y='Usages_z',data=df_vulnerable_filtered,fit_reg=True, scatter_kws={\"s\": marker_size})\n"
   ]
  },
  {
   "cell_type": "markdown",
   "metadata": {},
   "source": [
    "<a id=\"rq4-regression2\"></a>\n",
    "### RQ4 - Regression Analysis [Potential Vulns - Usages]\n",
    "\n",
    "\n",
    "[Back to table of contents](#index)"
   ]
  },
  {
   "cell_type": "code",
   "execution_count": null,
   "metadata": {},
   "outputs": [],
   "source": [
    "df_vulnerable_filtered['Potential_vulns_z'] = df_vulnerable_filtered['Potential_vulns'].pipe(stats.zscore)\n",
    "\n",
    "# OLS with beta standardized \n",
    "ols_model = sm.ols(formula=\"Potential_vulns_z ~ Usages_z\", data=df_vulnerable_filtered)\n",
    "result = ols_model.fit()\n",
    "\n",
    "print(result.summary())\n",
    "\n",
    "# print plots with regression line\n",
    "seaborn.lmplot(x='Usages',y='Potential_vulns',data=df_vulnerable_filtered,fit_reg=True, scatter_kws={\"s\": marker_size})\n"
   ]
  },
  {
   "cell_type": "markdown",
   "metadata": {},
   "source": [
    "<a id=\"discussion\"></a>\n",
    "## [Discussion] How are potential vulnerabilities related to disclosed ones?\n",
    "\n",
    "[Back to table of contents](#index)"
   ]
  },
  {
   "cell_type": "code",
   "execution_count": null,
   "metadata": {},
   "outputs": [],
   "source": [
    "# OLS with beta standardized \n",
    "ols_model = sm.ols(formula=\"cves_z ~ dv_z\", data=df)\n",
    "result = ols_model.fit()\n",
    "\n",
    "print(result.summary())\n",
    "\n",
    "# print plots with regression line\n",
    "# seaborn.lmplot(x='sloc',y='v',data=df,fit_reg=True, scatter_kws={\"s\": marker_size})\n",
    "seaborn.lmplot(x='cves_z',y='dv_z',data=df,fit_reg=True, scatter_kws={\"s\": marker_size})\n"
   ]
  },
  {
   "cell_type": "code",
   "execution_count": null,
   "metadata": {},
   "outputs": [],
   "source": []
  }
 ],
 "metadata": {
  "kernelspec": {
   "display_name": "Python 3",
   "language": "python",
   "name": "python3"
  },
  "language_info": {
   "codemirror_mode": {
    "name": "ipython",
    "version": 3
   },
   "file_extension": ".py",
   "mimetype": "text/x-python",
   "name": "python",
   "nbconvert_exporter": "python",
   "pygments_lexer": "ipython3",
   "version": "3.7.3"
  }
 },
 "nbformat": 4,
 "nbformat_minor": 2
}
