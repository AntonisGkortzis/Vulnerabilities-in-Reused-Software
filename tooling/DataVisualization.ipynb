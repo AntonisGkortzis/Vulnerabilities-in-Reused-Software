{
 "cells": [
  {
   "cell_type": "markdown",
   "metadata": {},
   "source": [
    "# ICSR '19 - Gkortzis et al. - Data Analysis\n",
    "\n",
    "This notebook performs the following analyses reported in the study:\n",
    "\n",
    "1. [Prepare dataset](#prepare)\n",
    "2. [RQ1 - Descriptive statistics](#descriptive)\n",
    "3. [RQ1 - Boxplots](#boxplots)\n",
    "4. [RQ1 - Grouping analysis](#grouping)\n",
    "5. [RQ2 - Scatterplots](#scatterplots)\n",
    "5. [RQ2 - Boxplots](#boxplots2)\n",
    "7. [RQ2 - Correlation](#correlation)"
   ]
  },
  {
   "cell_type": "markdown",
   "metadata": {},
   "source": [
    "<a id=\"prepare\"></a>\n",
    "## Prepare dataset"
   ]
  },
  {
   "cell_type": "code",
   "execution_count": 12,
   "metadata": {},
   "outputs": [],
   "source": [
    "import pandas as pd\n",
    "\n",
    "def load_dataset(csv_file):\n",
    "    return pd.read_csv(csv_file)\n",
    "\n",
    "def prepare_dataset(df):\n",
    "    # Remove project with no external classes or user classes\n",
    "    df = df[df['#d_classes'] > 0]\n",
    "    df = df[df['#u_sloc'] > 1000]\n",
    "    \n",
    "    # Calculate derived variables\n",
    "    df['#uv_p1'] = df['#uv_p1_r1'] + df['#uv_p1_r2'] + df['#uv_p1_r3'] + df['#uv_p1_r4']\n",
    "    df['#dv_p1'] = df['#dv_p1_r1'] + df['#dv_p1_r2'] + df['#dv_p1_r3'] + df['#dv_p1_r4']\n",
    "    df['#uv_p2'] = df['#uv_p2_r1'] + df['#uv_p2_r2'] + df['#uv_p2_r3'] + df['#uv_p2_r4']\n",
    "    df['#dv_p2'] = df['#dv_p2_r1'] + df['#dv_p2_r2'] + df['#dv_p2_r3'] + df['#dv_p2_r4']\n",
    "    df['#uv'] = df['#uv_p1'] + df['#uv_p2']\n",
    "    df['#dv'] = df['#dv_p1'] + df['#dv_p2']\n",
    "    df['#uv_sloc'] = df['#uv'] / (df['#d_sloc']+df['#u_sloc'])\n",
    "    df['#dv_sloc'] = df['#dv'] / (df['#d_sloc']+df['#u_sloc'])\n",
    "\n",
    "    return df\n",
    "\n",
    "projects_dataset = '../dataset_final.csv'\n",
    "study_vars = ['#u_classes', '#d_classes', '#u_sloc', '#d_sloc', '#uv', '#dv', '#uv_classes', '#dv_classes', '#uv_sloc', '#dv_sloc']"
   ]
  },
  {
   "cell_type": "markdown",
   "metadata": {},
   "source": [
    "<a id=\"descriptive\"></a>\n",
    "## RQ1 - Descriptive statistics"
   ]
  },
  {
   "cell_type": "code",
   "execution_count": 15,
   "metadata": {},
   "outputs": [
    {
     "data": {
      "text/html": [
       "<div>\n",
       "<style scoped>\n",
       "    .dataframe tbody tr th:only-of-type {\n",
       "        vertical-align: middle;\n",
       "    }\n",
       "\n",
       "    .dataframe tbody tr th {\n",
       "        vertical-align: top;\n",
       "    }\n",
       "\n",
       "    .dataframe thead th {\n",
       "        text-align: right;\n",
       "    }\n",
       "</style>\n",
       "<table border=\"1\" class=\"dataframe\">\n",
       "  <thead>\n",
       "    <tr style=\"text-align: right;\">\n",
       "      <th></th>\n",
       "      <th>#u_classes</th>\n",
       "      <th>#d_classes</th>\n",
       "      <th>#u_sloc</th>\n",
       "      <th>#d_sloc</th>\n",
       "      <th>#uv</th>\n",
       "      <th>#dv</th>\n",
       "      <th>#uv_classes</th>\n",
       "      <th>#dv_classes</th>\n",
       "      <th>#uv_sloc</th>\n",
       "      <th>#dv_sloc</th>\n",
       "    </tr>\n",
       "  </thead>\n",
       "  <tbody>\n",
       "    <tr>\n",
       "      <th>count</th>\n",
       "      <td>301.000000</td>\n",
       "      <td>301.000000</td>\n",
       "      <td>301.000000</td>\n",
       "      <td>3.010000e+02</td>\n",
       "      <td>301.000000</td>\n",
       "      <td>301.000000</td>\n",
       "      <td>301.000000</td>\n",
       "      <td>301.000000</td>\n",
       "      <td>301.000000</td>\n",
       "      <td>301.000000</td>\n",
       "    </tr>\n",
       "    <tr>\n",
       "      <th>mean</th>\n",
       "      <td>959.983389</td>\n",
       "      <td>3597.990033</td>\n",
       "      <td>26840.518272</td>\n",
       "      <td>1.172091e+05</td>\n",
       "      <td>55.481728</td>\n",
       "      <td>171.906977</td>\n",
       "      <td>25.980066</td>\n",
       "      <td>96.810631</td>\n",
       "      <td>0.000535</td>\n",
       "      <td>0.001122</td>\n",
       "    </tr>\n",
       "    <tr>\n",
       "      <th>std</th>\n",
       "      <td>3640.975425</td>\n",
       "      <td>7835.849727</td>\n",
       "      <td>88054.296011</td>\n",
       "      <td>1.923768e+05</td>\n",
       "      <td>222.223830</td>\n",
       "      <td>350.719001</td>\n",
       "      <td>88.136558</td>\n",
       "      <td>211.139655</td>\n",
       "      <td>0.001524</td>\n",
       "      <td>0.001851</td>\n",
       "    </tr>\n",
       "    <tr>\n",
       "      <th>min</th>\n",
       "      <td>3.000000</td>\n",
       "      <td>4.000000</td>\n",
       "      <td>1002.000000</td>\n",
       "      <td>9.200000e+01</td>\n",
       "      <td>0.000000</td>\n",
       "      <td>0.000000</td>\n",
       "      <td>0.000000</td>\n",
       "      <td>0.000000</td>\n",
       "      <td>0.000000</td>\n",
       "      <td>0.000000</td>\n",
       "    </tr>\n",
       "    <tr>\n",
       "      <th>25%</th>\n",
       "      <td>62.000000</td>\n",
       "      <td>503.000000</td>\n",
       "      <td>1957.000000</td>\n",
       "      <td>1.718900e+04</td>\n",
       "      <td>1.000000</td>\n",
       "      <td>6.000000</td>\n",
       "      <td>1.000000</td>\n",
       "      <td>5.000000</td>\n",
       "      <td>0.000006</td>\n",
       "      <td>0.000236</td>\n",
       "    </tr>\n",
       "    <tr>\n",
       "      <th>50%</th>\n",
       "      <td>132.000000</td>\n",
       "      <td>1715.000000</td>\n",
       "      <td>3710.000000</td>\n",
       "      <td>5.967900e+04</td>\n",
       "      <td>5.000000</td>\n",
       "      <td>48.000000</td>\n",
       "      <td>4.000000</td>\n",
       "      <td>28.000000</td>\n",
       "      <td>0.000063</td>\n",
       "      <td>0.000893</td>\n",
       "    </tr>\n",
       "    <tr>\n",
       "      <th>75%</th>\n",
       "      <td>308.000000</td>\n",
       "      <td>4417.000000</td>\n",
       "      <td>10389.000000</td>\n",
       "      <td>1.484820e+05</td>\n",
       "      <td>20.000000</td>\n",
       "      <td>185.000000</td>\n",
       "      <td>11.000000</td>\n",
       "      <td>104.000000</td>\n",
       "      <td>0.000359</td>\n",
       "      <td>0.001611</td>\n",
       "    </tr>\n",
       "    <tr>\n",
       "      <th>max</th>\n",
       "      <td>36587.000000</td>\n",
       "      <td>118110.000000</td>\n",
       "      <td>798308.000000</td>\n",
       "      <td>2.525867e+06</td>\n",
       "      <td>2230.000000</td>\n",
       "      <td>4175.000000</td>\n",
       "      <td>801.000000</td>\n",
       "      <td>2660.000000</td>\n",
       "      <td>0.015892</td>\n",
       "      <td>0.029015</td>\n",
       "    </tr>\n",
       "  </tbody>\n",
       "</table>\n",
       "</div>"
      ],
      "text/plain": [
       "         #u_classes     #d_classes        #u_sloc       #d_sloc          #uv  \\\n",
       "count    301.000000     301.000000     301.000000  3.010000e+02   301.000000   \n",
       "mean     959.983389    3597.990033   26840.518272  1.172091e+05    55.481728   \n",
       "std     3640.975425    7835.849727   88054.296011  1.923768e+05   222.223830   \n",
       "min        3.000000       4.000000    1002.000000  9.200000e+01     0.000000   \n",
       "25%       62.000000     503.000000    1957.000000  1.718900e+04     1.000000   \n",
       "50%      132.000000    1715.000000    3710.000000  5.967900e+04     5.000000   \n",
       "75%      308.000000    4417.000000   10389.000000  1.484820e+05    20.000000   \n",
       "max    36587.000000  118110.000000  798308.000000  2.525867e+06  2230.000000   \n",
       "\n",
       "               #dv  #uv_classes  #dv_classes    #uv_sloc    #dv_sloc  \n",
       "count   301.000000   301.000000   301.000000  301.000000  301.000000  \n",
       "mean    171.906977    25.980066    96.810631    0.000535    0.001122  \n",
       "std     350.719001    88.136558   211.139655    0.001524    0.001851  \n",
       "min       0.000000     0.000000     0.000000    0.000000    0.000000  \n",
       "25%       6.000000     1.000000     5.000000    0.000006    0.000236  \n",
       "50%      48.000000     4.000000    28.000000    0.000063    0.000893  \n",
       "75%     185.000000    11.000000   104.000000    0.000359    0.001611  \n",
       "max    4175.000000   801.000000  2660.000000    0.015892    0.029015  "
      ]
     },
     "execution_count": 15,
     "metadata": {},
     "output_type": "execute_result"
    }
   ],
   "source": [
    "df = load_dataset(projects_dataset)\n",
    "df = prepare_dataset(df)\n",
    "\n",
    "# Add reuse ratio\n",
    "df = df[study_vars]\n",
    "df.describe()"
   ]
  },
  {
   "cell_type": "markdown",
   "metadata": {},
   "source": [
    "## RQ1 - Descriptive statistics - Median"
   ]
  },
  {
   "cell_type": "code",
   "execution_count": 17,
   "metadata": {},
   "outputs": [
    {
     "data": {
      "text/plain": [
       "#u_classes       132.000000\n",
       "#d_classes      1715.000000\n",
       "#u_sloc         3710.000000\n",
       "#d_sloc        59679.000000\n",
       "#uv                5.000000\n",
       "#dv               48.000000\n",
       "#uv_classes        4.000000\n",
       "#dv_classes       28.000000\n",
       "#uv_sloc           0.000063\n",
       "#dv_sloc           0.000893\n",
       "dtype: float64"
      ]
     },
     "execution_count": 17,
     "metadata": {},
     "output_type": "execute_result"
    }
   ],
   "source": [
    "df.median()"
   ]
  },
  {
   "cell_type": "markdown",
   "metadata": {},
   "source": [
    "<a id=\"boxplots\"></a>\n",
    "## RQ1 - Boxplots"
   ]
  },
  {
   "cell_type": "code",
   "execution_count": 5,
   "metadata": {
    "scrolled": false
   },
   "outputs": [
    {
     "name": "stderr",
     "output_type": "stream",
     "text": [
      "/home/agkortzis/anaconda3/lib/python3.6/site-packages/matplotlib/figure.py:2022: UserWarning: This figure includes Axes that are not compatible with tight_layout, so results might be incorrect.\n",
      "  warnings.warn(\"This figure includes Axes that are not compatible \"\n"
     ]
    },
    {
     "data": {
      "image/png": "[encoded data removed]",
      "text/plain": [
       "<matplotlib.figure.Figure at 0x7ff06cfb0828>"
      ]
     },
     "metadata": {},
     "output_type": "display_data"
    }
   ],
   "source": [
    "import matplotlib\n",
    "import matplotlib.pyplot as plt\n",
    "\n",
    "%matplotlib inline\n",
    "\n",
    "matplotlib.rcParams['mathtext.fontset'] = 'custom'\n",
    "matplotlib.rcParams['mathtext.rm'] = 'Bitstream Vera Sans'\n",
    "matplotlib.rcParams['mathtext.it'] = 'Bitstream Vera Sans:italic'\n",
    "matplotlib.rcParams['mathtext.bf'] = 'Bitstream Vera Sans:bold'\n",
    "matplotlib.rcParams['font.family'] = 'STIXGeneral'\n",
    "\n",
    "\n",
    "df = load_dataset(projects_dataset)\n",
    "df = prepare_dataset(df)\n",
    "\n",
    "fig, axs = plt.subplots(nrows=2, ncols=3, figsize=(8, 6), tight_layout = {'pad': 1})\n",
    "bp_vars = ['#uv', '#uv_classes', '#uv_sloc', '#dv', '#dv_classes', '#dv_sloc']\n",
    "cols = ['Number of\\nvulnerabilities', 'Number of classes\\nwith vulnerabilities', 'Vulnrabilities\\nper SLOC']\n",
    "rows = ['Native Code', 'Reused Code']\n",
    "\n",
    "# Plot boxes\n",
    "for r in range(len(rows)):\n",
    "    for c in range(len(cols)):\n",
    "        bxp_df = df[bp_vars[r*len(cols) + c]]\n",
    "        axs[r,c].boxplot(bxp_df, showfliers=False)\n",
    "        axs[r,c].set_xticks([])\n",
    "\n",
    "# Set titles\n",
    "for ax, col in zip(axs[0], cols):\n",
    "    ax.set_title(col)\n",
    "\n",
    "for ax, row in zip(axs[:,0], rows):\n",
    "    ax.set_ylabel(row, rotation=90, size='large')\n",
    "\n",
    "\n",
    "fig.subplots_adjust(hspace=0.1, wspace=0.5)\n",
    "\n",
    "plt.savefig(\"../../paper/figs/boxplots.pdf\")\n",
    "\n",
    "plt.show()"
   ]
  },
  {
   "cell_type": "markdown",
   "metadata": {},
   "source": [
    "<a id=\"grouping\"></a>\n",
    "## RQ1 - Grouping analysis"
   ]
  },
  {
   "cell_type": "code",
   "execution_count": 6,
   "metadata": {},
   "outputs": [
    {
     "name": "stdout",
     "output_type": "stream",
     "text": [
      "Comparison of #uv for data sorted by #u_sloc\n",
      "\tStatistic=-3.87 (p=0.00)\n",
      "Comparison of #dv for data sorted by #u_sloc\n",
      "\tStatistic=-2.26 (p=0.02)\n",
      "Comparison of #uv for data sorted by #d_sloc\n",
      "\tStatistic=-3.87 (p=0.00)\n",
      "Comparison of #dv for data sorted by #d_sloc\n",
      "\tStatistic=-2.26 (p=0.02)\n"
     ]
    }
   ],
   "source": [
    "import numpy as np\n",
    "from scipy.stats import ttest_ind\n",
    "\n",
    "def splitby_and_test(df, sort_var, test_var):    \n",
    "    df.sort_values([sort_var], ascending=[True])\n",
    "    dfs = np.array_split(df, 2)\n",
    "    \n",
    "    t = ttest_ind(dfs[0][test_var],dfs[1][test_var])\n",
    "    print(f'Comparison of {test_var} for data sorted by {sort_var}')\n",
    "    print(f'\\tStatistic={t[0]:.2f} (p={t[1]:.2f})')\n",
    "\n",
    "\n",
    "df = load_dataset(projects_dataset)\n",
    "df = prepare_dataset(df)\n",
    "\n",
    "splitby_and_test(df, '#u_sloc', '#uv')\n",
    "splitby_and_test(df, '#u_sloc', '#dv')\n",
    "splitby_and_test(df, '#d_sloc', '#uv')\n",
    "splitby_and_test(df, '#d_sloc', '#dv')"
   ]
  },
  {
   "cell_type": "markdown",
   "metadata": {},
   "source": [
    "<a id=\"scatterplots\"></a>\n",
    "## RQ2 - Scatterplots"
   ]
  },
  {
   "cell_type": "code",
   "execution_count": 7,
   "metadata": {},
   "outputs": [
    {
     "name": "stderr",
     "output_type": "stream",
     "text": [
      "/home/agkortzis/anaconda3/lib/python3.6/site-packages/matplotlib/figure.py:2022: UserWarning: This figure includes Axes that are not compatible with tight_layout, so results might be incorrect.\n",
      "  warnings.warn(\"This figure includes Axes that are not compatible \"\n"
     ]
    },
    {
     "data": {
      "image/png": "[encoded data removed]",
      "text/plain": [
       "<matplotlib.figure.Figure at 0x7ff03ef18550>"
      ]
     },
     "metadata": {},
     "output_type": "display_data"
    }
   ],
   "source": [
    "import matplotlib\n",
    "import matplotlib.pyplot as plt\n",
    "\n",
    "%matplotlib inline\n",
    "matplotlib.rcParams.update({'font.size': 16})\n",
    "\n",
    "df['reuse_ratio'] = df['#d_sloc'] / (df['#d_sloc']+df['#u_sloc'])\n",
    "df['uv_ratio'] = df['#uv'] / df['#u_sloc']\n",
    "df['dv_ratio'] = df['#dv'] / df['#d_sloc']\n",
    "\n",
    "fig, axs = plt.subplots(nrows=1, ncols=2, figsize=(20, 6), tight_layout = {'pad': 1})\n",
    "label_size = 24\n",
    "\n",
    "axs[0].scatter(df['uv_ratio'], df['reuse_ratio'],cmap='bwr')\n",
    "axs[0].set_xlim([-0.0001,0.02])\n",
    "axs[0].set_xlabel(\"Native Vulnerability Density\", fontsize=label_size)\n",
    "axs[0].set_ylabel('Reuse Ratio', rotation=90, fontsize=label_size)\n",
    "\n",
    "axs[1].scatter(df['dv_ratio'], df['reuse_ratio'],cmap='bwr')\n",
    "axs[1].set_xlim([-0.0001,0.01])\n",
    "axs[1].set_xlabel(\"Reused Vulnerability Density\", fontsize=label_size)\n",
    "axs[1].set_yticks([])\n",
    "\n",
    "fig.subplots_adjust(wspace=0.1)\n",
    "plt.savefig(\"../../paper/figs/scatter_plots.pdf\")\n",
    "plt.show()\n"
   ]
  },
  {
   "cell_type": "markdown",
   "metadata": {},
   "source": [
    "<a id=\"boxplots2\"></a>\n",
    "## RQ2 - Boxplots"
   ]
  },
  {
   "cell_type": "code",
   "execution_count": 8,
   "metadata": {},
   "outputs": [
    {
     "name": "stderr",
     "output_type": "stream",
     "text": [
      "/home/agkortzis/anaconda3/lib/python3.6/site-packages/matplotlib/figure.py:2022: UserWarning: This figure includes Axes that are not compatible with tight_layout, so results might be incorrect.\n",
      "  warnings.warn(\"This figure includes Axes that are not compatible \"\n"
     ]
    },
    {
     "data": {
      "image/png": "[encoded data removed]",
      "text/plain": [
       "<matplotlib.figure.Figure at 0x7ff028ff7ac8>"
      ]
     },
     "metadata": {},
     "output_type": "display_data"
    }
   ],
   "source": [
    "import matplotlib\n",
    "import matplotlib.pyplot as plt\n",
    "\n",
    "%matplotlib inline\n",
    "\n",
    "matplotlib.rcParams['mathtext.fontset'] = 'custom'\n",
    "matplotlib.rcParams['mathtext.rm'] = 'Bitstream Vera Sans'\n",
    "matplotlib.rcParams['mathtext.it'] = 'Bitstream Vera Sans:italic'\n",
    "matplotlib.rcParams['mathtext.bf'] = 'Bitstream Vera Sans:bold'\n",
    "matplotlib.rcParams['font.family'] = 'STIXGeneral'\n",
    "\n",
    "\n",
    "df = load_dataset(projects_dataset)\n",
    "df = prepare_dataset(df)\n",
    "\n",
    "df['reuse_ratio'] = df['#d_sloc'] / (df['#d_sloc']+df['#u_sloc'])\n",
    "df['uv_ratio'] = df['#uv'] / df['#u_sloc']\n",
    "df['dv_ratio'] = df['#dv'] / df['#d_sloc']\n",
    "df['#v_sloc'] = (df['#uv'] + df['#dv']) / (df['#d_sloc']+df['#u_sloc'])\n",
    "\n",
    "fig, axs = plt.subplots(nrows=1, ncols=3, figsize=(8, 4), tight_layout = {'pad': 1})\n",
    "bp_vars = ['uv_ratio', 'dv_ratio', '#v_sloc'] #'reuse_ratio'\n",
    "labels = ['Native\\nvulnerabilities density', 'Reused\\nvulnerabilities density', 'Overall\\nvulnerabilities density'] #'Reuse ratio', \n",
    "\n",
    "# Plot boxes\n",
    "for i in range(len(labels)):\n",
    "    bxp_df = df[bp_vars[i]]\n",
    "    axs[i].boxplot(bxp_df, showfliers=False)\n",
    "    axs[i].set_xticks([])\n",
    "    axs[i].set_ylim([-0.0001,0.0065])\n",
    "    axs[i].set_title(labels[i])\n",
    "\n",
    "fig.subplots_adjust(hspace=0.1, wspace=0.5)\n",
    "\n",
    "plt.savefig(\"../../paper/figs/boxplots2.pdf\")\n",
    "\n",
    "plt.show()"
   ]
  },
  {
   "cell_type": "markdown",
   "metadata": {},
   "source": [
    "<a id=\"correlation\"></a>\n",
    "## RQ2 - Correlation"
   ]
  },
  {
   "cell_type": "code",
   "execution_count": 9,
   "metadata": {},
   "outputs": [
    {
     "name": "stdout",
     "output_type": "stream",
     "text": [
      "Pearson correlation coefficient\n",
      "\tCoefficient: -0.176 (p-value=0.00218)\n",
      "native vulns :: 16700\n",
      "reused vulns :: 51744\n"
     ]
    }
   ],
   "source": [
    "from scipy.stats import pearsonr\n",
    "\n",
    "df = load_dataset(projects_dataset)\n",
    "df = prepare_dataset(df)\n",
    "\n",
    "df['reuse_ratio'] = df['#d_sloc'] / (df['#d_sloc']+df['#u_sloc'])\n",
    "df['#v_sloc'] = (df['#uv'] + df['#dv']) / (df['#d_sloc']+df['#u_sloc'])\n",
    "\n",
    "df.sort_values(['reuse_ratio'], ascending=[True])\n",
    "corr = pearsonr(df['reuse_ratio'],df['#v_sloc'])\n",
    "print(f\"Pearson correlation coefficient\")\n",
    "print(f\"\\tCoefficient: {corr[0]:.3f} (p-value={corr[1]:.5f})\")\n",
    "\n",
    "print(\"native vulns :: {}\".format(sum(df['#uv'])))\n",
    "print(\"reused vulns :: {}\".format(sum(df['#dv'])))"
   ]
  },
  {
   "cell_type": "code",
   "execution_count": null,
   "metadata": {},
   "outputs": [],
   "source": []
  }
 ],
 "metadata": {
  "kernelspec": {
   "display_name": "Python 3",
   "language": "python",
   "name": "python3"
  },
  "language_info": {
   "codemirror_mode": {
    "name": "ipython",
    "version": 3
   },
   "file_extension": ".py",
   "mimetype": "text/x-python",
   "name": "python",
   "nbconvert_exporter": "python",
   "pygments_lexer": "ipython3",
   "version": "3.6.4"
  }
 },
 "nbformat": 4,
 "nbformat_minor": 2
}
